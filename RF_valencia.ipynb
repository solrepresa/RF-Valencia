{
  "nbformat": 4,
  "nbformat_minor": 0,
  "metadata": {
    "colab": {
      "name": "RF_valencia.ipynb",
      "provenance": [],
      "include_colab_link": true
    },
    "kernelspec": {
      "name": "python3",
      "display_name": "Python 3"
    }
  },
  "cells": [
    {
      "cell_type": "markdown",
      "metadata": {
        "id": "view-in-github",
        "colab_type": "text"
      },
      "source": [
        "<a href=\"https://colab.research.google.com/github/solrepresa/RF-Valencia/blob/master/RF_valencia.ipynb\" target=\"_parent\"><img src=\"https://colab.research.google.com/assets/colab-badge.svg\" alt=\"Open In Colab\"/></a>"
      ]
    },
    {
      "cell_type": "markdown",
      "metadata": {
        "id": "PRK7DhkxQw1H",
        "colab_type": "text"
      },
      "source": [
        "\n",
        "# Random Forest con Apache Spark en Python."
      ]
    },
    {
      "cell_type": "markdown",
      "metadata": {
        "id": "jeuLiQjYDxpl",
        "colab_type": "text"
      },
      "source": [
        "Importantísimo! Instalar JAVA en Google Colab. El siguiente código instala Apache Spark 2.4.4, Java 8 y Findspark , una biblioteca que facilita a Python encontrar Spark."
      ]
    },
    {
      "cell_type": "code",
      "metadata": {
        "id": "bckmhfvEDvKf",
        "colab_type": "code",
        "colab": {}
      },
      "source": [
        "!apt-get install openjdk-8-jdk-headless -qq > /dev/null\n",
        "!wget -q https://downloads.apache.org/spark/spark-2.4.5/spark-2.4.5-bin-hadoop2.7.tgz\n",
        "!tar xf spark-2.4.5-bin-hadoop2.7.tgz\n",
        "!pip install -q findspark"
      ],
      "execution_count": 0,
      "outputs": []
    },
    {
      "cell_type": "code",
      "metadata": {
        "id": "UPJMxG8NEzif",
        "colab_type": "code",
        "outputId": "a29d7821-636c-4d5f-b976-f7a8a23f603f",
        "colab": {
          "base_uri": "https://localhost:8080/",
          "height": 69
        }
      },
      "source": [
        "import os\n",
        "os.environ[\"JAVA_HOME\"] = \"/usr/lib/jvm/java-8-openjdk-amd64\"\n",
        "os.environ[\"SPARK_HOME\"] = \"/content/spark-2.4.5-bin-hadoop2.7\"\n",
        "\n",
        "! java -version"
      ],
      "execution_count": 4,
      "outputs": [
        {
          "output_type": "stream",
          "text": [
            "openjdk version \"11.0.6\" 2020-01-14\n",
            "OpenJDK Runtime Environment (build 11.0.6+10-post-Ubuntu-1ubuntu118.04.1)\n",
            "OpenJDK 64-Bit Server VM (build 11.0.6+10-post-Ubuntu-1ubuntu118.04.1, mixed mode, sharing)\n"
          ],
          "name": "stdout"
        }
      ]
    },
    {
      "cell_type": "markdown",
      "metadata": {
        "id": "1S40_DJrRO0f",
        "colab_type": "text"
      },
      "source": [
        "Importamos las librerías que vamos a usar.\n",
        "La mayoría son pyspark."
      ]
    },
    {
      "cell_type": "code",
      "metadata": {
        "id": "azLRejEFQqD_",
        "colab_type": "code",
        "outputId": "3e88cf2e-44b8-4832-fd85-8316bf65c359",
        "colab": {
          "base_uri": "https://localhost:8080/",
          "height": 263
        }
      },
      "source": [
        "!pip install --upgrade pyspark\n",
        "\n",
        "from pyspark.ml import Pipeline\n",
        "from pyspark.ml.regression import RandomForestRegressor\n",
        "from pyspark.ml.tuning import ParamGridBuilder\n",
        "from pyspark.ml.tuning import CrossValidator\n",
        "from pyspark.ml.feature import VectorIndexer\n",
        "from pyspark.ml.feature import VectorAssembler\n",
        "from pyspark.ml.evaluation import RegressionEvaluator\n",
        "from pyspark.context import SparkContext\n",
        "from pyspark.sql.functions import col\n",
        "from pyspark.sql.session import SparkSession\n",
        "\n",
        "\n",
        "import pandas as pd\n",
        "import numpy as np"
      ],
      "execution_count": 5,
      "outputs": [
        {
          "output_type": "stream",
          "text": [
            "Collecting pyspark\n",
            "\u001b[?25l  Downloading https://files.pythonhosted.org/packages/9a/5a/271c416c1c2185b6cb0151b29a91fff6fcaed80173c8584ff6d20e46b465/pyspark-2.4.5.tar.gz (217.8MB)\n",
            "\u001b[K     |████████████████████████████████| 217.8MB 59kB/s \n",
            "\u001b[?25hCollecting py4j==0.10.7\n",
            "\u001b[?25l  Downloading https://files.pythonhosted.org/packages/e3/53/c737818eb9a7dc32a7cd4f1396e787bd94200c3997c72c1dbe028587bd76/py4j-0.10.7-py2.py3-none-any.whl (197kB)\n",
            "\u001b[K     |████████████████████████████████| 204kB 44.8MB/s \n",
            "\u001b[?25hBuilding wheels for collected packages: pyspark\n",
            "  Building wheel for pyspark (setup.py) ... \u001b[?25l\u001b[?25hdone\n",
            "  Created wheel for pyspark: filename=pyspark-2.4.5-py2.py3-none-any.whl size=218257927 sha256=1734da6306b9fab07757537524bdb6ff847f4aae216c672908594d9186592c08\n",
            "  Stored in directory: /root/.cache/pip/wheels/bf/db/04/61d66a5939364e756eb1c1be4ec5bdce6e04047fc7929a3c3c\n",
            "Successfully built pyspark\n",
            "Installing collected packages: py4j, pyspark\n",
            "Successfully installed py4j-0.10.7 pyspark-2.4.5\n"
          ],
          "name": "stdout"
        }
      ]
    },
    {
      "cell_type": "code",
      "metadata": {
        "id": "y9bJK4eaIb57",
        "colab_type": "code",
        "colab": {}
      },
      "source": [
        "import findspark\n",
        "findspark.init()"
      ],
      "execution_count": 0,
      "outputs": []
    },
    {
      "cell_type": "markdown",
      "metadata": {
        "id": "ol9KImLYefn4",
        "colab_type": "text"
      },
      "source": [
        "Creamos un contexto y sesión para Spark. Luego lo vamos a cerrar al final del código."
      ]
    },
    {
      "cell_type": "code",
      "metadata": {
        "id": "5QYxlgeId4CJ",
        "colab_type": "code",
        "colab": {}
      },
      "source": [
        "sc = SparkContext('local')\n",
        "spark = SparkSession(sc)"
      ],
      "execution_count": 0,
      "outputs": []
    },
    {
      "cell_type": "markdown",
      "metadata": {
        "id": "HBhUHN1sRXOi",
        "colab_type": "text"
      },
      "source": [
        "Abrimos los datos. Es un 10% de mi dataset original. Está almacenado en github y lo traemos con una función de pandas. Una vez abierto en pandas el csv, lo convertimos al formato de dataFrame de Spark.\n"
      ]
    },
    {
      "cell_type": "code",
      "metadata": {
        "id": "Kcu_MJqW7CH3",
        "colab_type": "code",
        "colab": {}
      },
      "source": [
        "# URL datos\n",
        "url = \"https://raw.githubusercontent.com/solrepresa/RF-Valencia/master/prueba_datos.csv\"\n",
        "df1 = pd.read_csv(url)"
      ],
      "execution_count": 0,
      "outputs": []
    },
    {
      "cell_type": "code",
      "metadata": {
        "id": "YPg42VPH8djl",
        "colab_type": "code",
        "colab": {}
      },
      "source": [
        "type(df1)\n",
        "data = spark.createDataFrame(df1)"
      ],
      "execution_count": 0,
      "outputs": []
    },
    {
      "cell_type": "code",
      "metadata": {
        "id": "hyH1CKZh77Yk",
        "colab_type": "code",
        "outputId": "cb873018-d949-48a7-8649-91e914cd49f3",
        "colab": {
          "base_uri": "https://localhost:8080/",
          "height": 35
        }
      },
      "source": [
        "type(data)"
      ],
      "execution_count": 10,
      "outputs": [
        {
          "output_type": "execute_result",
          "data": {
            "text/plain": [
              "pyspark.sql.dataframe.DataFrame"
            ]
          },
          "metadata": {
            "tags": []
          },
          "execution_count": 10
        }
      ]
    },
    {
      "cell_type": "code",
      "metadata": {
        "id": "GfkSx-PARkCY",
        "colab_type": "code",
        "colab": {}
      },
      "source": [
        "#data = spark.read.format(\"csv\").option(\"header\", True).load(\"/variables_estacion_aod_IDW_modelo_paper.csv\").option(\"delimiter\", \",\")"
      ],
      "execution_count": 0,
      "outputs": []
    },
    {
      "cell_type": "markdown",
      "metadata": {
        "id": "wE2j4PXlPnWs",
        "colab_type": "text"
      },
      "source": [
        "Verificamos que la tabla se encuentre cargada correctamente."
      ]
    },
    {
      "cell_type": "code",
      "metadata": {
        "id": "cMr9q_5peG4_",
        "colab_type": "code",
        "outputId": "8cd8025a-2a3a-481a-a2ea-c686f791195d",
        "colab": {
          "base_uri": "https://localhost:8080/",
          "height": 696
        }
      },
      "source": [
        "#display(data)\n",
        "#data.show()\n",
        "#data.describe().show()\n",
        "\n",
        "data.show(10)\n",
        "data.printSchema() #aparecen las variables como string?\n"
      ],
      "execution_count": 0,
      "outputs": [
        {
          "output_type": "stream",
          "text": [
            "+-----+------------------+-----+-----------+--------------------+----------------+------------------+-------------------+--------------------+--------------------+--------------------+--------------------+--------------------+-----------------+--------------------+------------------+-------------------+-------------------+------------------+-------------------+\n",
            "| PM25|               DEM|CLC_1|         PS|                  RH|               T|                 U|                  V|             DUSMASS|             OCSMASS|            SO2SMASS|            SO4SMASS|             SSSMASS|             PBLH|             PRECTOT|             SPEED|             CLDHGH|             CLDLOW|             H1000|                AOD|\n",
            "+-----+------------------+-----+-----------+--------------------+----------------+------------------+-------------------+--------------------+--------------------+--------------------+--------------------+--------------------+-----------------+--------------------+------------------+-------------------+-------------------+------------------+-------------------+\n",
            "| 14.5|  32.4693260192871|88.89|99677.46875|   0.663100242614746|194.274841308594| -20.3080520629883| 3.6403522491455096| 6.07594685675394E-9|1.095661339434169...|1.732475052307340...| 1.85464299473637E-9| 1.11168096950109E-8|897.4995727539059|1.609541944169730...|3.4894623756408705|1.19263140732073E-5|                0.0|  153.389114379883|0.11910933039340099|\n",
            "|10.75| 6.658246000000001|88.89|   90484.07| 0.34512129999999996|          191.61|         -49.91089| 0.7907801999999999|         1.085839E-8|        5.922419E-10|1.614020999999999...|1.340685000000000...|         2.024717E-9|         2204.843|        6.187489E-15|          2.592818|                0.0|       3.707887E-17|          151.2303|         0.07745595|\n",
            "| 5.75|          402.3627|44.44|   88471.59|4.307247999999999...|        196.7785|         -9.453166|           11.13482|         1.497839E-8|         1.254222E-9|         1.523575E-9|         2.322621E-9|         7.032938E-9|          1980.42|          2.62019E-8|           2.99018|         0.01399208|        1.113847E-4|          109.5182|         0.07162899|\n",
            "|  6.5|          660.1466|  0.0|   97475.65|         8.181829E-5|        291.0945|         -4.016326|          0.8274657|        2.538895E-10|        3.182925E-10|         1.096547E-9|        6.934563E-10|8.437627000000001E-9|         1169.303|                 0.0|          5.115589|                0.0|                0.0|          148.9696|         0.07378066|\n",
            "|  5.0|38.099090000000004|66.67|   90301.39|3.486917999999999E-5|        286.9945|          2.022272|-2.7628169999999996|1.100598999999999...|        7.075145E-10|         1.267137E-9|         1.066621E-9|        9.300823E-10|          551.553|         2.524648E-8|          5.478398|         0.06193041|        0.002388746|          160.7333|         0.07087681|\n",
            "| 9.25|           1107.88|  0.0|   97433.13|         2.349016E-5|        296.9176|         -36.12318|          -4.006323|         4.709288E-8|        9.419161E-10|1.034305000000000...|2.057275000000000...|1.425704000000000...|         725.9038|         7.217312E-6|          3.608421|                0.0|0.10918530000000001|          146.8423|          0.1513142|\n",
            "| 6.75|38.099090000000004|66.67|   95914.19|           0.7034719|        185.3291|         -48.48129|           3.327993|5.831151999999999E-9|1.393640000000000...|         1.579973E-9|         1.551237E-9|3.414067000000000...|         2012.096|                 0.0|          3.799463|                0.0|                0.0|          131.6039|         0.05840434|\n",
            "|  9.0|          104.7554|22.22|   96543.74|           0.6813271|          203.56|         -5.805553|           13.52921|         1.245015E-8|        8.101431E-10|         2.685131E-9|         1.396522E-9|1.289511000000000...|          1380.33|         1.010149E-6|          2.082424| 0.5086335999999999|                0.0|          100.0411|0.14104360000000002|\n",
            "| 3.25|          402.3627|44.44|   88967.61|           0.3861197|        285.5648|          1.713871|-0.9843101000000001|        9.419792E-10|        3.588297E-10|         1.467052E-9|        6.783621E-10|        9.858593E-10|         820.7817|         1.688493E-8|          6.172911|                0.0|        0.001515713|          208.1319|         0.07071791|\n",
            "| 2.25|  240.114807128906|44.44|97467.15625|   0.624784827232361|285.303985595703|-0.917633891105652|-2.0154864788055398| 1.90624938056771E-9|4.855351676269491...| 2.55248178149259E-9|1.557105111515969...|5.523824064823659...|955.7294311523441| 2.06649808376369E-8|  2.52048087120056|                0.0|0.00401994213461876|246.83302307128898| 0.0649679594441213|\n",
            "+-----+------------------+-----+-----------+--------------------+----------------+------------------+-------------------+--------------------+--------------------+--------------------+--------------------+--------------------+-----------------+--------------------+------------------+-------------------+-------------------+------------------+-------------------+\n",
            "only showing top 10 rows\n",
            "\n",
            "root\n",
            " |-- PM25: double (nullable = true)\n",
            " |-- DEM: double (nullable = true)\n",
            " |-- CLC_1: double (nullable = true)\n",
            " |-- PS: double (nullable = true)\n",
            " |-- RH: double (nullable = true)\n",
            " |-- T: double (nullable = true)\n",
            " |-- U: double (nullable = true)\n",
            " |-- V: double (nullable = true)\n",
            " |-- DUSMASS: double (nullable = true)\n",
            " |-- OCSMASS: double (nullable = true)\n",
            " |-- SO2SMASS: double (nullable = true)\n",
            " |-- SO4SMASS: double (nullable = true)\n",
            " |-- SSSMASS: double (nullable = true)\n",
            " |-- PBLH: double (nullable = true)\n",
            " |-- PRECTOT: double (nullable = true)\n",
            " |-- SPEED: double (nullable = true)\n",
            " |-- CLDHGH: double (nullable = true)\n",
            " |-- CLDLOW: double (nullable = true)\n",
            " |-- H1000: double (nullable = true)\n",
            " |-- AOD: double (nullable = true)\n",
            "\n"
          ],
          "name": "stdout"
        }
      ]
    },
    {
      "cell_type": "code",
      "metadata": {
        "id": "BX1MVl1Reknr",
        "colab_type": "code",
        "colab": {}
      },
      "source": [
        "## Para cambiar el formato de las variables si hace falta.. \n",
        "\n",
        "# data = data.select(*(col(c).cast(\"double\").alias(c) for c in data.columns))\n",
        "# data.printSchema()\n",
        "# data.show()"
      ],
      "execution_count": 0,
      "outputs": []
    },
    {
      "cell_type": "markdown",
      "metadata": {
        "id": "vpvJoZmExdOO",
        "colab_type": "text"
      },
      "source": [
        "Calculamos estadísticos descriptivos de nuestro data set:"
      ]
    },
    {
      "cell_type": "code",
      "metadata": {
        "id": "jVOFBeUGxcb5",
        "colab_type": "code",
        "outputId": "c50e079b-dca6-4513-b0d7-26355cfe6c13",
        "colab": {
          "base_uri": "https://localhost:8080/",
          "height": 693
        }
      },
      "source": [
        "data.describe().toPandas().transpose()"
      ],
      "execution_count": 11,
      "outputs": [
        {
          "output_type": "execute_result",
          "data": {
            "text/html": [
              "<div>\n",
              "<style scoped>\n",
              "    .dataframe tbody tr th:only-of-type {\n",
              "        vertical-align: middle;\n",
              "    }\n",
              "\n",
              "    .dataframe tbody tr th {\n",
              "        vertical-align: top;\n",
              "    }\n",
              "\n",
              "    .dataframe thead th {\n",
              "        text-align: right;\n",
              "    }\n",
              "</style>\n",
              "<table border=\"1\" class=\"dataframe\">\n",
              "  <thead>\n",
              "    <tr style=\"text-align: right;\">\n",
              "      <th></th>\n",
              "      <th>0</th>\n",
              "      <th>1</th>\n",
              "      <th>2</th>\n",
              "      <th>3</th>\n",
              "      <th>4</th>\n",
              "    </tr>\n",
              "  </thead>\n",
              "  <tbody>\n",
              "    <tr>\n",
              "      <th>summary</th>\n",
              "      <td>count</td>\n",
              "      <td>mean</td>\n",
              "      <td>stddev</td>\n",
              "      <td>min</td>\n",
              "      <td>max</td>\n",
              "    </tr>\n",
              "    <tr>\n",
              "      <th>PM25</th>\n",
              "      <td>98271</td>\n",
              "      <td>9.078298836557416</td>\n",
              "      <td>7.220148003122053</td>\n",
              "      <td>0.08</td>\n",
              "      <td>179.25</td>\n",
              "    </tr>\n",
              "    <tr>\n",
              "      <th>DEM</th>\n",
              "      <td>98271</td>\n",
              "      <td>220.12151786318375</td>\n",
              "      <td>266.2935849960927</td>\n",
              "      <td>1.531304</td>\n",
              "      <td>1107.88</td>\n",
              "    </tr>\n",
              "    <tr>\n",
              "      <th>CLC_1</th>\n",
              "      <td>98271</td>\n",
              "      <td>41.24941060944373</td>\n",
              "      <td>31.1262202042482</td>\n",
              "      <td>0.0</td>\n",
              "      <td>100.0</td>\n",
              "    </tr>\n",
              "    <tr>\n",
              "      <th>PS</th>\n",
              "      <td>98271</td>\n",
              "      <td>96130.37244601069</td>\n",
              "      <td>3640.7711304127947</td>\n",
              "      <td>86708.8</td>\n",
              "      <td>103669.0</td>\n",
              "    </tr>\n",
              "    <tr>\n",
              "      <th>RH</th>\n",
              "      <td>98271</td>\n",
              "      <td>0.3017333626834181</td>\n",
              "      <td>0.32683721664449855</td>\n",
              "      <td>6.596968000000002E-7</td>\n",
              "      <td>0.9999193999999999</td>\n",
              "    </tr>\n",
              "    <tr>\n",
              "      <th>T</th>\n",
              "      <td>98271</td>\n",
              "      <td>244.18034711201275</td>\n",
              "      <td>48.00726487158155</td>\n",
              "      <td>169.0197</td>\n",
              "      <td>309.2127</td>\n",
              "    </tr>\n",
              "    <tr>\n",
              "      <th>U</th>\n",
              "      <td>98271</td>\n",
              "      <td>-5.657127820578495</td>\n",
              "      <td>25.99961743328576</td>\n",
              "      <td>-107.7927</td>\n",
              "      <td>101.94617462158199</td>\n",
              "    </tr>\n",
              "    <tr>\n",
              "      <th>V</th>\n",
              "      <td>98271</td>\n",
              "      <td>1.6852785532081436</td>\n",
              "      <td>11.134694635419532</td>\n",
              "      <td>-62.98659</td>\n",
              "      <td>73.44799</td>\n",
              "    </tr>\n",
              "    <tr>\n",
              "      <th>DUSMASS</th>\n",
              "      <td>98271</td>\n",
              "      <td>1.402289795650405E-8</td>\n",
              "      <td>2.147794875956743E-8</td>\n",
              "      <td>1.8073370000000004E-21</td>\n",
              "      <td>4.7108020000000004E-7</td>\n",
              "    </tr>\n",
              "    <tr>\n",
              "      <th>OCSMASS</th>\n",
              "      <td>98271</td>\n",
              "      <td>9.732605051493089E-10</td>\n",
              "      <td>9.208268360945213E-10</td>\n",
              "      <td>5.756376E-11</td>\n",
              "      <td>2.4996959999999996E-8</td>\n",
              "    </tr>\n",
              "    <tr>\n",
              "      <th>SO2SMASS</th>\n",
              "      <td>98271</td>\n",
              "      <td>1.982473278242495E-9</td>\n",
              "      <td>1.1901199885441793E-9</td>\n",
              "      <td>1.382961E-10</td>\n",
              "      <td>1.1324849999999999E-8</td>\n",
              "    </tr>\n",
              "    <tr>\n",
              "      <th>SO4SMASS</th>\n",
              "      <td>98271</td>\n",
              "      <td>1.8166635919102254E-9</td>\n",
              "      <td>8.872048644688483E-10</td>\n",
              "      <td>1.915788E-10</td>\n",
              "      <td>9.381922E-9</td>\n",
              "    </tr>\n",
              "    <tr>\n",
              "      <th>SSSMASS</th>\n",
              "      <td>98271</td>\n",
              "      <td>1.0963783834775368E-8</td>\n",
              "      <td>1.1666399191887097E-8</td>\n",
              "      <td>7.663897E-15</td>\n",
              "      <td>1.553594E-7</td>\n",
              "    </tr>\n",
              "    <tr>\n",
              "      <th>PBLH</th>\n",
              "      <td>98271</td>\n",
              "      <td>1199.9946503069093</td>\n",
              "      <td>500.79917219449425</td>\n",
              "      <td>62.96906</td>\n",
              "      <td>3957.5440000000003</td>\n",
              "    </tr>\n",
              "    <tr>\n",
              "      <th>PRECTOT</th>\n",
              "      <td>98271</td>\n",
              "      <td>2.2219383263623846E-6</td>\n",
              "      <td>1.500720948556575E-5</td>\n",
              "      <td>-2.505165E-23</td>\n",
              "      <td>6.209964E-4</td>\n",
              "    </tr>\n",
              "    <tr>\n",
              "      <th>SPEED</th>\n",
              "      <td>98271</td>\n",
              "      <td>4.582532496134421</td>\n",
              "      <td>2.4499877810930664</td>\n",
              "      <td>0.5176106</td>\n",
              "      <td>22.6125507354736</td>\n",
              "    </tr>\n",
              "    <tr>\n",
              "      <th>CLDHGH</th>\n",
              "      <td>98271</td>\n",
              "      <td>0.1679143882398371</td>\n",
              "      <td>0.28868821332464467</td>\n",
              "      <td>-1.1266349999999999E-18</td>\n",
              "      <td>0.9471245</td>\n",
              "    </tr>\n",
              "    <tr>\n",
              "      <th>CLDLOW</th>\n",
              "      <td>98271</td>\n",
              "      <td>0.02401015542039824</td>\n",
              "      <td>0.07758347838795372</td>\n",
              "      <td>-8.443497E-18</td>\n",
              "      <td>0.9570003</td>\n",
              "    </tr>\n",
              "    <tr>\n",
              "      <th>H1000</th>\n",
              "      <td>98271</td>\n",
              "      <td>158.47182279690625</td>\n",
              "      <td>44.68430390896531</td>\n",
              "      <td>-111.7829</td>\n",
              "      <td>334.5218</td>\n",
              "    </tr>\n",
              "    <tr>\n",
              "      <th>AOD</th>\n",
              "      <td>98271</td>\n",
              "      <td>0.10966739221128596</td>\n",
              "      <td>0.05677378187991373</td>\n",
              "      <td>0.0255235943904604</td>\n",
              "      <td>0.7343193</td>\n",
              "    </tr>\n",
              "  </tbody>\n",
              "</table>\n",
              "</div>"
            ],
            "text/plain": [
              "              0  ...                      4\n",
              "summary   count  ...                    max\n",
              "PM25      98271  ...                 179.25\n",
              "DEM       98271  ...                1107.88\n",
              "CLC_1     98271  ...                  100.0\n",
              "PS        98271  ...               103669.0\n",
              "RH        98271  ...     0.9999193999999999\n",
              "T         98271  ...               309.2127\n",
              "U         98271  ...     101.94617462158199\n",
              "V         98271  ...               73.44799\n",
              "DUSMASS   98271  ...  4.7108020000000004E-7\n",
              "OCSMASS   98271  ...  2.4996959999999996E-8\n",
              "SO2SMASS  98271  ...  1.1324849999999999E-8\n",
              "SO4SMASS  98271  ...            9.381922E-9\n",
              "SSSMASS   98271  ...            1.553594E-7\n",
              "PBLH      98271  ...     3957.5440000000003\n",
              "PRECTOT   98271  ...            6.209964E-4\n",
              "SPEED     98271  ...       22.6125507354736\n",
              "CLDHGH    98271  ...              0.9471245\n",
              "CLDLOW    98271  ...              0.9570003\n",
              "H1000     98271  ...               334.5218\n",
              "AOD       98271  ...              0.7343193\n",
              "\n",
              "[21 rows x 5 columns]"
            ]
          },
          "metadata": {
            "tags": []
          },
          "execution_count": 11
        }
      ]
    },
    {
      "cell_type": "markdown",
      "metadata": {
        "id": "O8uxgOUNPvOk",
        "colab_type": "text"
      },
      "source": [
        "**Nomeclatura en Machine Learning**:\n",
        "\n",
        "* **Features**: Es el *input* del modelo. Es decir, las variables de entrada, predictoras o independientes del modelo. Se deben cargar como un vector donde se condensen todas las variables independientes. \n",
        "\n",
        "* **Labels**: Es el *output* del modelo. Es decir, la variable respuesta o dependiente.\n",
        "\n",
        "\n"
      ]
    },
    {
      "cell_type": "markdown",
      "metadata": {
        "id": "BWYvZIMpWAaJ",
        "colab_type": "text"
      },
      "source": [
        "Como primer paso en el armado del modelo, creamos una lista con los nombres de las variables que queremos ingresar al modelo. Como en nuestro caso son todas las columnas excepto la primera (PM25), hacemos un for que recorra el data set: "
      ]
    },
    {
      "cell_type": "code",
      "metadata": {
        "id": "UzDBXlabRRok",
        "colab_type": "code",
        "colab": {}
      },
      "source": [
        "feature_list = []\n",
        "for col in data.columns:\n",
        "    if col == 'label':\n",
        "        continue\n",
        "    else:\n",
        "        feature_list.append(col)"
      ],
      "execution_count": 0,
      "outputs": []
    },
    {
      "cell_type": "code",
      "metadata": {
        "id": "8PNcWdNwNWEQ",
        "colab_type": "code",
        "colab": {}
      },
      "source": [
        "#feature_list\n",
        "feature_list = feature_list[1:25]"
      ],
      "execution_count": 0,
      "outputs": []
    },
    {
      "cell_type": "markdown",
      "metadata": {
        "id": "kdwyFWGNRY3q",
        "colab_type": "text"
      },
      "source": [
        "Para crear la columna FEATURES en data utilizamos la función **VectorAssembler()**. Por eso, aquí \"features aparece como outputCol. Primero, creamos el modelo que nos permite transformar nuestros datos de entrada en una única columna y luego transformamos nuestros datos con la función *transform()*:"
      ]
    },
    {
      "cell_type": "code",
      "metadata": {
        "id": "NhqDWsdXRl_N",
        "colab_type": "code",
        "colab": {}
      },
      "source": [
        "assembler = VectorAssembler(inputCols=feature_list, outputCol=\"features\")"
      ],
      "execution_count": 0,
      "outputs": []
    },
    {
      "cell_type": "markdown",
      "metadata": {
        "id": "OvdnbWFIZY0I",
        "colab_type": "text"
      },
      "source": [
        "\"A Pipeline consists with sequence of *Transformers* and *Estimators*. A Transformer is a ML Pipeline component that transforms a DataFrame into another DataFrame by using the **transform()** function. *StringIndexer*, *VectorAssembler* are the transformers in our pipeline. *Estimator* is the learning algorithm that trains the data. *Estimator* implements a method **fit()**, which accepts a DataFrame and produces a machine learning Model. *RandomForestClassifier* or *RandomForestRegression* is the estimator of the pipeline.\""
      ]
    },
    {
      "cell_type": "code",
      "metadata": {
        "id": "4YWDYZbVMBOk",
        "colab_type": "code",
        "colab": {}
      },
      "source": [
        "output = assembler.transform(data)"
      ],
      "execution_count": 0,
      "outputs": []
    },
    {
      "cell_type": "code",
      "metadata": {
        "id": "gqWGUFTfMykh",
        "colab_type": "code",
        "outputId": "8397ce1d-d5d4-404c-fdea-bd35fe755b90",
        "colab": {
          "base_uri": "https://localhost:8080/",
          "height": 315
        }
      },
      "source": [
        "#output.printSchema()\n",
        "output.show(10)\n",
        "#output.select(\"features\", \"PM25\").show(truncate=False)"
      ],
      "execution_count": 45,
      "outputs": [
        {
          "output_type": "stream",
          "text": [
            "+-----+------------------+-----+-----------+--------------------+----------------+------------------+-------------------+--------------------+--------------------+--------------------+--------------------+--------------------+-----------------+--------------------+------------------+-------------------+-------------------+------------------+-------------------+--------------------+\n",
            "| PM25|               DEM|CLC_1|         PS|                  RH|               T|                 U|                  V|             DUSMASS|             OCSMASS|            SO2SMASS|            SO4SMASS|             SSSMASS|             PBLH|             PRECTOT|             SPEED|             CLDHGH|             CLDLOW|             H1000|                AOD|            features|\n",
            "+-----+------------------+-----+-----------+--------------------+----------------+------------------+-------------------+--------------------+--------------------+--------------------+--------------------+--------------------+-----------------+--------------------+------------------+-------------------+-------------------+------------------+-------------------+--------------------+\n",
            "| 14.5|  32.4693260192871|88.89|99677.46875|   0.663100242614746|194.274841308594| -20.3080520629883| 3.6403522491455096| 6.07594685675394E-9|1.095661339434169...|1.732475052307340...| 1.85464299473637E-9| 1.11168096950109E-8|897.4995727539059|1.609541944169730...|3.4894623756408705|1.19263140732073E-5|                0.0|  153.389114379883|0.11910933039340099|[32.4693260192871...|\n",
            "|10.75| 6.658246000000001|88.89|   90484.07| 0.34512129999999996|          191.61|         -49.91089| 0.7907801999999999|         1.085839E-8|        5.922419E-10|1.614020999999999...|1.340685000000000...|         2.024717E-9|         2204.843|        6.187489E-15|          2.592818|                0.0|       3.707887E-17|          151.2303|         0.07745595|[6.65824600000000...|\n",
            "| 5.75|          402.3627|44.44|   88471.59|4.307247999999999...|        196.7785|         -9.453166|           11.13482|         1.497839E-8|         1.254222E-9|         1.523575E-9|         2.322621E-9|         7.032938E-9|          1980.42|          2.62019E-8|           2.99018|         0.01399208|        1.113847E-4|          109.5182|         0.07162899|[402.3627,44.44,8...|\n",
            "|  6.5|          660.1466|  0.0|   97475.65|         8.181829E-5|        291.0945|         -4.016326|          0.8274657|        2.538895E-10|        3.182925E-10|         1.096547E-9|        6.934563E-10|8.437627000000001E-9|         1169.303|                 0.0|          5.115589|                0.0|                0.0|          148.9696|         0.07378066|[660.1466,0.0,974...|\n",
            "|  5.0|38.099090000000004|66.67|   90301.39|3.486917999999999E-5|        286.9945|          2.022272|-2.7628169999999996|1.100598999999999...|        7.075145E-10|         1.267137E-9|         1.066621E-9|        9.300823E-10|          551.553|         2.524648E-8|          5.478398|         0.06193041|        0.002388746|          160.7333|         0.07087681|[38.0990900000000...|\n",
            "| 9.25|           1107.88|  0.0|   97433.13|         2.349016E-5|        296.9176|         -36.12318|          -4.006323|         4.709288E-8|        9.419161E-10|1.034305000000000...|2.057275000000000...|1.425704000000000...|         725.9038|         7.217312E-6|          3.608421|                0.0|0.10918530000000001|          146.8423|          0.1513142|[1107.88,0.0,9743...|\n",
            "| 6.75|38.099090000000004|66.67|   95914.19|           0.7034719|        185.3291|         -48.48129|           3.327993|5.831151999999999E-9|1.393640000000000...|         1.579973E-9|         1.551237E-9|3.414067000000000...|         2012.096|                 0.0|          3.799463|                0.0|                0.0|          131.6039|         0.05840434|[38.0990900000000...|\n",
            "|  9.0|          104.7554|22.22|   96543.74|           0.6813271|          203.56|         -5.805553|           13.52921|         1.245015E-8|        8.101431E-10|         2.685131E-9|         1.396522E-9|1.289511000000000...|          1380.33|         1.010149E-6|          2.082424| 0.5086335999999999|                0.0|          100.0411|0.14104360000000002|[104.7554,22.22,9...|\n",
            "| 3.25|          402.3627|44.44|   88967.61|           0.3861197|        285.5648|          1.713871|-0.9843101000000001|        9.419792E-10|        3.588297E-10|         1.467052E-9|        6.783621E-10|        9.858593E-10|         820.7817|         1.688493E-8|          6.172911|                0.0|        0.001515713|          208.1319|         0.07071791|[402.3627,44.44,8...|\n",
            "| 2.25|  240.114807128906|44.44|97467.15625|   0.624784827232361|285.303985595703|-0.917633891105652|-2.0154864788055398| 1.90624938056771E-9|4.855351676269491...| 2.55248178149259E-9|1.557105111515969...|5.523824064823659...|955.7294311523441| 2.06649808376369E-8|  2.52048087120056|                0.0|0.00401994213461876|246.83302307128898| 0.0649679594441213|[240.114807128906...|\n",
            "+-----+------------------+-----+-----------+--------------------+----------------+------------------+-------------------+--------------------+--------------------+--------------------+--------------------+--------------------+-----------------+--------------------+------------------+-------------------+-------------------+------------------+-------------------+--------------------+\n",
            "only showing top 10 rows\n",
            "\n"
          ],
          "name": "stdout"
        }
      ]
    },
    {
      "cell_type": "markdown",
      "metadata": {
        "id": "lef1jsXJaDaj",
        "colab_type": "text"
      },
      "source": [
        "Dividimos nuestros datos en un set de entrenamiento (80%) y otro de prueba (20%):"
      ]
    },
    {
      "cell_type": "code",
      "metadata": {
        "id": "WOccokdCbnPX",
        "colab_type": "code",
        "colab": {}
      },
      "source": [
        "(trainingData, testData) = output.randomSplit([0.8, 0.2], seed = 132)"
      ],
      "execution_count": 0,
      "outputs": []
    },
    {
      "cell_type": "code",
      "metadata": {
        "id": "5ceymBilt7Qc",
        "colab_type": "code",
        "colab": {}
      },
      "source": [
        "#type(trainingData)\n",
        "#trainingData.printSchema()\n",
        "#trainingData.take(10)"
      ],
      "execution_count": 0,
      "outputs": []
    },
    {
      "cell_type": "markdown",
      "metadata": {
        "id": "Bg_jjaQPYGv6",
        "colab_type": "text"
      },
      "source": [
        "Creamos el modelo de regresión Random Forest con la función **RandomForestRegressor()**:"
      ]
    },
    {
      "cell_type": "code",
      "metadata": {
        "id": "_y3muOlmSPc3",
        "colab_type": "code",
        "colab": {}
      },
      "source": [
        "rf = RandomForestRegressor(labelCol=\"PM25\", featuresCol=\"features\", numTrees=1000, seed= 123)"
      ],
      "execution_count": 0,
      "outputs": []
    },
    {
      "cell_type": "markdown",
      "metadata": {
        "id": "o04rJLamcPwS",
        "colab_type": "text"
      },
      "source": [
        "Haremos 2 cosas. Un modelo sin Cross Validation (cv) y otro con cv para comparar los resultados. \n",
        "\n",
        "A continuación, entrenamos el modelo SIN cv con la función **fit()**."
      ]
    },
    {
      "cell_type": "code",
      "metadata": {
        "id": "dW7bocTpju6Y",
        "colab_type": "code",
        "colab": {}
      },
      "source": [
        "model = rf.fit(trainingData)"
      ],
      "execution_count": 0,
      "outputs": []
    },
    {
      "cell_type": "code",
      "metadata": {
        "id": "Gd-3N92zUt4z",
        "colab_type": "code",
        "colab": {}
      },
      "source": [
        "#pipeline = Pipeline(assembler)"
      ],
      "execution_count": 0,
      "outputs": []
    },
    {
      "cell_type": "code",
      "metadata": {
        "id": "EPHdEE1Eaau9",
        "colab_type": "code",
        "colab": {}
      },
      "source": [
        "#pipeline_model = pipeline.fit(trainingData)"
      ],
      "execution_count": 0,
      "outputs": []
    },
    {
      "cell_type": "code",
      "metadata": {
        "id": "lp-H5VfvvuQJ",
        "colab_type": "code",
        "colab": {}
      },
      "source": [
        "#pipeline_prediction = pipeline_model.transform(testData)\n",
        "#pipeline_prediction.show(10)"
      ],
      "execution_count": 0,
      "outputs": []
    },
    {
      "cell_type": "markdown",
      "metadata": {
        "id": "8iJxLXH4Zfei",
        "colab_type": "text"
      },
      "source": [
        "Para aplicar el Cross Validation es necesario que 1) creeemos una grilla, la cual servirá para fraccionar los datos de nuestro set de entrenamiento, y 2) definamos cómo se evaluará la regresión. Lo primero lo haremos con la función **ParamGrudBuilder()**"
      ]
    },
    {
      "cell_type": "code",
      "metadata": {
        "id": "Pc9rE14mVapG",
        "colab_type": "code",
        "colab": {}
      },
      "source": [
        "paramGrid = ParamGridBuilder().build()\n",
        "    #.addGrid(rf.numTrees, [int(x) for x in np.linspace(start = 10, stop = 50, num = 10)]) \\\n",
        "    #.addGrid(rf.maxDepth, [int(x) for x in np.linspace(start = 5, stop = 25, num = 10)]) \\\n"
      ],
      "execution_count": 0,
      "outputs": []
    },
    {
      "cell_type": "markdown",
      "metadata": {
        "id": "cLY1WkgIZmVg",
        "colab_type": "text"
      },
      "source": [
        "y lo segundo con la función **RegressionEvaluator()**:"
      ]
    },
    {
      "cell_type": "code",
      "metadata": {
        "id": "Q5Ab-DY6_rdE",
        "colab_type": "code",
        "colab": {}
      },
      "source": [
        "rf_evaluator = RegressionEvaluator(predictionCol=\"PM25\", labelCol=\"PM25\", metricName=\"rmse\")"
      ],
      "execution_count": 0,
      "outputs": []
    },
    {
      "cell_type": "markdown",
      "metadata": {
        "id": "Puk6OAz3BTlY",
        "colab_type": "text"
      },
      "source": [
        "Finalmente, armamos el Cross Validation con todas las partes anteriores. La función utilizada es **CrossValidator()**"
      ]
    },
    {
      "cell_type": "code",
      "metadata": {
        "id": "No95jQ8YQE1n",
        "colab_type": "code",
        "colab": {}
      },
      "source": [
        "crossval = CrossValidator(estimator = rf, #el modelo\n",
        "                          estimatorParamMaps = paramGrid, #la grilla\n",
        "                          evaluator = rf_evaluator, #la evaluacion\n",
        "                          numFolds = 10,\n",
        "                          seed=123)"
      ],
      "execution_count": 0,
      "outputs": []
    },
    {
      "cell_type": "markdown",
      "metadata": {
        "id": "LbQdFaNTaLXp",
        "colab_type": "text"
      },
      "source": [
        "La variables obtenida de *CrossValidator()* es nuestro \"nuevo\" modelo. Por tanto, lo entrenaremos con **fit()** como hicimos antes:"
      ]
    },
    {
      "cell_type": "code",
      "metadata": {
        "id": "3tqgu4pkebZM",
        "colab_type": "code",
        "colab": {}
      },
      "source": [
        "cvModel = crossval.fit(trainingData) # train: DataFrame\n",
        "print(cvModel)\n",
        "cvModel.avgMetrics # Solo para cross validation"
      ],
      "execution_count": 0,
      "outputs": []
    },
    {
      "cell_type": "markdown",
      "metadata": {
        "id": "1z1OuECVFPwJ",
        "colab_type": "text"
      },
      "source": [
        "Finalmente, generamos las predicciones del modelo con la función **transform()**. Esto lo haremos para los 2 modelos (con y sin CV)."
      ]
    },
    {
      "cell_type": "code",
      "metadata": {
        "id": "tr1Fu_uHVuIW",
        "colab_type": "code",
        "colab": {}
      },
      "source": [
        "predictions = model.transform(testData)\n",
        "predictions_cv = cvModel.transform(testData)"
      ],
      "execution_count": 0,
      "outputs": []
    },
    {
      "cell_type": "code",
      "metadata": {
        "id": "bU3XB3hjtWnC",
        "colab_type": "code",
        "colab": {}
      },
      "source": [
        "#predictions.show(10)"
      ],
      "execution_count": 0,
      "outputs": []
    },
    {
      "cell_type": "markdown",
      "metadata": {
        "id": "H32NZtnGxVbk",
        "colab_type": "text"
      },
      "source": [
        "Evaluamos el modelo.."
      ]
    },
    {
      "cell_type": "code",
      "metadata": {
        "id": "qpnFYEYf7Ang",
        "colab_type": "code",
        "outputId": "b7b2e657-8459-4601-b741-70f4c8eab574",
        "colab": {
          "base_uri": "https://localhost:8080/",
          "height": 87
        }
      },
      "source": [
        "eval = RegressionEvaluator(labelCol=\"PM25\", predictionCol=\"prediction\", metricName=\"rmse\")\n",
        "\n",
        "# Root Mean Square Error\n",
        "rmse = eval.evaluate(predictions)\n",
        "print(\"Root Mean Squared Error (RMSE) on test data: %.3f\" % rmse)\n",
        "\n",
        "# Mean Square Error\n",
        "mse = eval.evaluate(predictions, {eval.metricName: \"mse\"})\n",
        "print(\"Mean Square Error (MSE) on test data: %.3f\" % mse)\n",
        "\n",
        "# Mean Absolute Error\n",
        "mae = eval.evaluate(predictions, {eval.metricName: \"mae\"})\n",
        "print(\"Mean Absolute Error (MAE) on test data: %.3f\" % mae)\n",
        "\n",
        "# r2 - coefficient of determination\n",
        "r2 = eval.evaluate(predictions, {eval.metricName: \"r2\"})\n",
        "print(\"R Squared (R2) on test data: %.3f\" %r2)"
      ],
      "execution_count": 40,
      "outputs": [
        {
          "output_type": "stream",
          "text": [
            "Root Mean Squared Error (RMSE) on test data: 6.333\n",
            "Mean Square Error (MSE) on test data: 40.106\n",
            "Mean Absolute Error (MAE) on test data: 4.270\n",
            "R Squared (R2) on test data: 0.249\n"
          ],
          "name": "stdout"
        }
      ]
    },
    {
      "cell_type": "code",
      "metadata": {
        "id": "jjbtrCiOetyl",
        "colab_type": "code",
        "colab": {}
      },
      "source": [
        "cvModel.featureImportances"
      ],
      "execution_count": 0,
      "outputs": []
    },
    {
      "cell_type": "markdown",
      "metadata": {
        "id": "Ny-5QiG61utq",
        "colab_type": "text"
      },
      "source": [
        "Gráfico de los resultados:"
      ]
    },
    {
      "cell_type": "code",
      "metadata": {
        "id": "HkdcDjNS3PN2",
        "colab_type": "code",
        "colab": {}
      },
      "source": [
        "rfResult = predictions.toPandas()\n",
        "#rfResult.head()"
      ],
      "execution_count": 0,
      "outputs": []
    },
    {
      "cell_type": "code",
      "metadata": {
        "id": "HV2lTrd-VwVu",
        "colab_type": "code",
        "outputId": "dc49f00d-2367-41db-fe97-58c35cd4d659",
        "colab": {
          "base_uri": "https://localhost:8080/",
          "height": 308
        }
      },
      "source": [
        "import matplotlib.pyplot as plt\n",
        "plt.plot(rfResult.PM25, rfResult.prediction, 'bo')\n",
        "plt.xlabel('Measeure')\n",
        "plt.ylabel('Prediction')\n",
        "plt.suptitle(\"Model Performance RMSE: %f\" % rmse)\n",
        "plt.show()"
      ],
      "execution_count": 42,
      "outputs": [
        {
          "output_type": "display_data",
          "data": {
            "image/png": "[encoded data removed]",
            "text/plain": [
              "<Figure size 432x288 with 1 Axes>"
            ]
          },
          "metadata": {
            "tags": []
          }
        }
      ]
    },
    {
      "cell_type": "code",
      "metadata": {
        "id": "IhhlYl3mV0cN",
        "colab_type": "code",
        "colab": {
          "base_uri": "https://localhost:8080/",
          "height": 235
        },
        "outputId": "2ee22b72-4a26-4679-f9b1-e367de434467"
      },
      "source": [
        "### VER ESTO ###\n",
        "bestPipeline = cvModel.bestModel\n",
        "bestModel = bestPipeline.stages[1]\n",
        "\n",
        "importances = bestModel.featureImportances\n",
        "\n",
        "x_values = list(range(len(importances)))\n",
        "\n",
        "plt.bar(x_values, importances, orientation = 'vertical')\n",
        "plt.xticks(x_values, feature_list, rotation=40)\n",
        "plt.ylabel('Importance')\n",
        "plt.xlabel('Feature')\n",
        "plt.title('Feature Importances')"
      ],
      "execution_count": 43,
      "outputs": [
        {
          "output_type": "error",
          "ename": "AttributeError",
          "evalue": "ignored",
          "traceback": [
            "\u001b[0;31m---------------------------------------------------------------------------\u001b[0m",
            "\u001b[0;31mAttributeError\u001b[0m                            Traceback (most recent call last)",
            "\u001b[0;32m<ipython-input-43-f057a51fd27f>\u001b[0m in \u001b[0;36m<module>\u001b[0;34m()\u001b[0m\n\u001b[1;32m      1\u001b[0m \u001b[0mbestPipeline\u001b[0m \u001b[0;34m=\u001b[0m \u001b[0mcvModel\u001b[0m\u001b[0;34m.\u001b[0m\u001b[0mbestModel\u001b[0m\u001b[0;34m\u001b[0m\u001b[0;34m\u001b[0m\u001b[0m\n\u001b[0;32m----> 2\u001b[0;31m \u001b[0mbestModel\u001b[0m \u001b[0;34m=\u001b[0m \u001b[0mbestPipeline\u001b[0m\u001b[0;34m.\u001b[0m\u001b[0mstages\u001b[0m\u001b[0;34m[\u001b[0m\u001b[0;36m1\u001b[0m\u001b[0;34m]\u001b[0m\u001b[0;34m\u001b[0m\u001b[0;34m\u001b[0m\u001b[0m\n\u001b[0m\u001b[1;32m      3\u001b[0m \u001b[0;34m\u001b[0m\u001b[0m\n\u001b[1;32m      4\u001b[0m \u001b[0mimportances\u001b[0m \u001b[0;34m=\u001b[0m \u001b[0mbestModel\u001b[0m\u001b[0;34m.\u001b[0m\u001b[0mfeatureImportances\u001b[0m\u001b[0;34m\u001b[0m\u001b[0;34m\u001b[0m\u001b[0m\n\u001b[1;32m      5\u001b[0m \u001b[0;34m\u001b[0m\u001b[0m\n",
            "\u001b[0;31mAttributeError\u001b[0m: 'RandomForestRegressionModel' object has no attribute 'stages'"
          ]
        }
      ]
    },
    {
      "cell_type": "code",
      "metadata": {
        "id": "XsOssX5Kj7Qg",
        "colab_type": "code",
        "colab": {}
      },
      "source": [
        "print('numTrees - ', bestModel.getNumTrees)\n",
        "print('maxDepth - ', bestModel.getOrDefault('maxDepth'))"
      ],
      "execution_count": 0,
      "outputs": []
    },
    {
      "cell_type": "markdown",
      "metadata": {
        "id": "DbR8mFJIR4AL",
        "colab_type": "text"
      },
      "source": [
        "Guardamos el modelo:"
      ]
    },
    {
      "cell_type": "code",
      "metadata": {
        "id": "_ICLhlVWRD3Q",
        "colab_type": "code",
        "colab": {}
      },
      "source": [
        "# Guardar modelo\n",
        "cvModel.write.overwrite().save(\"/model\")\n",
        "  \n",
        "# CrossValidatorModel model here \n",
        "cvModelLoaded = CrossValidatorModel.load(\"/model\")"
      ],
      "execution_count": 0,
      "outputs": []
    },
    {
      "cell_type": "markdown",
      "metadata": {
        "id": "42b2gvxxR1EH",
        "colab_type": "text"
      },
      "source": [
        "Cerramos la sesión:"
      ]
    },
    {
      "cell_type": "code",
      "metadata": {
        "id": "xHlaV7nyeZH7",
        "colab_type": "code",
        "colab": {}
      },
      "source": [
        "sc.stop()"
      ],
      "execution_count": 0,
      "outputs": []
    }
  ]
}