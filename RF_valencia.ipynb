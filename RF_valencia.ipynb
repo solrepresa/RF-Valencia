{
  "nbformat": 4,
  "nbformat_minor": 0,
  "metadata": {
    "colab": {
      "name": "RF_valencia.ipynb",
      "provenance": [],
      "include_colab_link": true
    },
    "kernelspec": {
      "name": "python3",
      "display_name": "Python 3"
    }
  },
  "cells": [
    {
      "cell_type": "markdown",
      "metadata": {
        "id": "view-in-github",
        "colab_type": "text"
      },
      "source": [
        "<a href=\"https://colab.research.google.com/github/solrepresa/RF-Valencia/blob/master/RF_valencia.ipynb\" target=\"_parent\"><img src=\"https://colab.research.google.com/assets/colab-badge.svg\" alt=\"Open In Colab\"/></a>"
      ]
    },
    {
      "cell_type": "markdown",
      "metadata": {
        "id": "PRK7DhkxQw1H",
        "colab_type": "text"
      },
      "source": [
        "\n",
        "Apache Spark y Random Forest en Python."
      ]
    },
    {
      "cell_type": "markdown",
      "metadata": {
        "id": "jeuLiQjYDxpl",
        "colab_type": "text"
      },
      "source": [
        "Importantísimo! Instalar JAVA. Esto instala Apache Spark 2.4.4, Java 8 y Findspark , una biblioteca que facilita a Python encontrar Spark. "
      ]
    },
    {
      "cell_type": "code",
      "metadata": {
        "id": "bckmhfvEDvKf",
        "colab_type": "code",
        "colab": {}
      },
      "source": [
        "!apt-get install openjdk-8-jdk-headless -qq > /dev/null\n",
        "!wget -q https://downloads.apache.org/spark/spark-2.4.5/spark-2.4.5-bin-hadoop2.7.tgz\n",
        "!tar xf spark-2.4.5-bin-hadoop2.7.tgz\n",
        "!pip install -q findspark"
      ],
      "execution_count": 0,
      "outputs": []
    },
    {
      "cell_type": "code",
      "metadata": {
        "id": "UPJMxG8NEzif",
        "colab_type": "code",
        "colab": {
          "base_uri": "https://localhost:8080/",
          "height": 69
        },
        "outputId": "4a580002-80b7-49c9-93a4-f20749989f28"
      },
      "source": [
        "import os\n",
        "os.environ[\"JAVA_HOME\"] = \"/usr/lib/jvm/java-8-openjdk-amd64\"\n",
        "os.environ[\"SPARK_HOME\"] = \"/content/spark-2.4.5-bin-hadoop2.7\"\n",
        "\n",
        "! java -version"
      ],
      "execution_count": 101,
      "outputs": [
        {
          "output_type": "stream",
          "text": [
            "openjdk version \"11.0.6\" 2020-01-14\n",
            "OpenJDK Runtime Environment (build 11.0.6+10-post-Ubuntu-1ubuntu118.04.1)\n",
            "OpenJDK 64-Bit Server VM (build 11.0.6+10-post-Ubuntu-1ubuntu118.04.1, mixed mode, sharing)\n"
          ],
          "name": "stdout"
        }
      ]
    },
    {
      "cell_type": "markdown",
      "metadata": {
        "id": "1S40_DJrRO0f",
        "colab_type": "text"
      },
      "source": [
        "Importar librerías que vamos a usar.\n",
        "La mayoría son pyspark."
      ]
    },
    {
      "cell_type": "code",
      "metadata": {
        "id": "azLRejEFQqD_",
        "colab_type": "code",
        "outputId": "aeb106d9-c267-48d8-9064-83589f060cb4",
        "colab": {
          "base_uri": "https://localhost:8080/",
          "height": 52
        }
      },
      "source": [
        "!pip install --upgrade pyspark\n",
        "\n",
        "from pyspark.ml import Pipeline\n",
        "from pyspark.ml.regression import RandomForestRegressor\n",
        "from pyspark.ml.tuning import ParamGridBuilder\n",
        "from pyspark.ml.tuning import CrossValidator\n",
        "from pyspark.ml.feature import VectorIndexer\n",
        "from pyspark.ml.feature import VectorAssembler\n",
        "from pyspark.ml.evaluation import RegressionEvaluator\n",
        "from pyspark.context import SparkContext\n",
        "from pyspark.sql.functions import col\n",
        "from pyspark.sql.session import SparkSession\n",
        "\n",
        "\n",
        "import pandas as pd\n",
        "import numpy as np"
      ],
      "execution_count": 102,
      "outputs": [
        {
          "output_type": "stream",
          "text": [
            "Requirement already up-to-date: pyspark in /usr/local/lib/python3.6/dist-packages (2.4.5)\n",
            "Requirement already satisfied, skipping upgrade: py4j==0.10.7 in /usr/local/lib/python3.6/dist-packages (from pyspark) (0.10.7)\n"
          ],
          "name": "stdout"
        }
      ]
    },
    {
      "cell_type": "code",
      "metadata": {
        "id": "y9bJK4eaIb57",
        "colab_type": "code",
        "colab": {}
      },
      "source": [
        "import findspark\n",
        "findspark.init()"
      ],
      "execution_count": 0,
      "outputs": []
    },
    {
      "cell_type": "markdown",
      "metadata": {
        "id": "ol9KImLYefn4",
        "colab_type": "text"
      },
      "source": [
        "Creamos un contexto y sesión para Spark. Luego lo vamos a cerrar al final del código."
      ]
    },
    {
      "cell_type": "code",
      "metadata": {
        "id": "5QYxlgeId4CJ",
        "colab_type": "code",
        "colab": {}
      },
      "source": [
        "sc = SparkContext('local')\n",
        "spark = SparkSession(sc)"
      ],
      "execution_count": 0,
      "outputs": []
    },
    {
      "cell_type": "markdown",
      "metadata": {
        "id": "HBhUHN1sRXOi",
        "colab_type": "text"
      },
      "source": [
        "Abrimos los datos. Es un 10% de mi set de datos. Está almacenado en github. Abrimos con pandas y convertimos al formato de Spark.\n"
      ]
    },
    {
      "cell_type": "code",
      "metadata": {
        "id": "Kcu_MJqW7CH3",
        "colab_type": "code",
        "colab": {}
      },
      "source": [
        "# URL datos\n",
        "url = \"https://raw.githubusercontent.com/solrepresa/RF-Valencia/master/prueba_datos.csv\"\n",
        "df1 = pd.read_csv(url)"
      ],
      "execution_count": 0,
      "outputs": []
    },
    {
      "cell_type": "code",
      "metadata": {
        "id": "YPg42VPH8djl",
        "colab_type": "code",
        "colab": {}
      },
      "source": [
        "type(df1)\n",
        "data = spark.createDataFrame(df1)"
      ],
      "execution_count": 0,
      "outputs": []
    },
    {
      "cell_type": "code",
      "metadata": {
        "id": "hyH1CKZh77Yk",
        "colab_type": "code",
        "colab": {
          "base_uri": "https://localhost:8080/",
          "height": 315
        },
        "outputId": "303fb6df-b2b0-4626-a86a-5114b99ed62d"
      },
      "source": [
        "type(data)\n"
      ],
      "execution_count": 214,
      "outputs": [
        {
          "output_type": "stream",
          "text": [
            "+-----+------------------+-----+-----------+--------------------+----------------+------------------+-------------------+--------------------+--------------------+--------------------+--------------------+--------------------+-----------------+--------------------+------------------+-------------------+-------------------+------------------+-------------------+\n",
            "| PM25|               DEM|CLC_1|         PS|                  RH|               T|                 U|                  V|             DUSMASS|             OCSMASS|            SO2SMASS|            SO4SMASS|             SSSMASS|             PBLH|             PRECTOT|             SPEED|             CLDHGH|             CLDLOW|             H1000|                AOD|\n",
            "+-----+------------------+-----+-----------+--------------------+----------------+------------------+-------------------+--------------------+--------------------+--------------------+--------------------+--------------------+-----------------+--------------------+------------------+-------------------+-------------------+------------------+-------------------+\n",
            "| 14.5|  32.4693260192871|88.89|99677.46875|   0.663100242614746|194.274841308594| -20.3080520629883| 3.6403522491455096| 6.07594685675394E-9|1.095661339434169...|1.732475052307340...| 1.85464299473637E-9| 1.11168096950109E-8|897.4995727539059|1.609541944169730...|3.4894623756408705|1.19263140732073E-5|                0.0|  153.389114379883|0.11910933039340099|\n",
            "|10.75| 6.658246000000001|88.89|   90484.07| 0.34512129999999996|          191.61|         -49.91089| 0.7907801999999999|         1.085839E-8|        5.922419E-10|1.614020999999999...|1.340685000000000...|         2.024717E-9|         2204.843|        6.187489E-15|          2.592818|                0.0|       3.707887E-17|          151.2303|         0.07745595|\n",
            "| 5.75|          402.3627|44.44|   88471.59|4.307247999999999...|        196.7785|         -9.453166|           11.13482|         1.497839E-8|         1.254222E-9|         1.523575E-9|         2.322621E-9|         7.032938E-9|          1980.42|          2.62019E-8|           2.99018|         0.01399208|        1.113847E-4|          109.5182|         0.07162899|\n",
            "|  6.5|          660.1466|  0.0|   97475.65|         8.181829E-5|        291.0945|         -4.016326|          0.8274657|        2.538895E-10|        3.182925E-10|         1.096547E-9|        6.934563E-10|8.437627000000001E-9|         1169.303|                 0.0|          5.115589|                0.0|                0.0|          148.9696|         0.07378066|\n",
            "|  5.0|38.099090000000004|66.67|   90301.39|3.486917999999999E-5|        286.9945|          2.022272|-2.7628169999999996|1.100598999999999...|        7.075145E-10|         1.267137E-9|         1.066621E-9|        9.300823E-10|          551.553|         2.524648E-8|          5.478398|         0.06193041|        0.002388746|          160.7333|         0.07087681|\n",
            "| 9.25|           1107.88|  0.0|   97433.13|         2.349016E-5|        296.9176|         -36.12318|          -4.006323|         4.709288E-8|        9.419161E-10|1.034305000000000...|2.057275000000000...|1.425704000000000...|         725.9038|         7.217312E-6|          3.608421|                0.0|0.10918530000000001|          146.8423|          0.1513142|\n",
            "| 6.75|38.099090000000004|66.67|   95914.19|           0.7034719|        185.3291|         -48.48129|           3.327993|5.831151999999999E-9|1.393640000000000...|         1.579973E-9|         1.551237E-9|3.414067000000000...|         2012.096|                 0.0|          3.799463|                0.0|                0.0|          131.6039|         0.05840434|\n",
            "|  9.0|          104.7554|22.22|   96543.74|           0.6813271|          203.56|         -5.805553|           13.52921|         1.245015E-8|        8.101431E-10|         2.685131E-9|         1.396522E-9|1.289511000000000...|          1380.33|         1.010149E-6|          2.082424| 0.5086335999999999|                0.0|          100.0411|0.14104360000000002|\n",
            "| 3.25|          402.3627|44.44|   88967.61|           0.3861197|        285.5648|          1.713871|-0.9843101000000001|        9.419792E-10|        3.588297E-10|         1.467052E-9|        6.783621E-10|        9.858593E-10|         820.7817|         1.688493E-8|          6.172911|                0.0|        0.001515713|          208.1319|         0.07071791|\n",
            "| 2.25|  240.114807128906|44.44|97467.15625|   0.624784827232361|285.303985595703|-0.917633891105652|-2.0154864788055398| 1.90624938056771E-9|4.855351676269491...| 2.55248178149259E-9|1.557105111515969...|5.523824064823659...|955.7294311523441| 2.06649808376369E-8|  2.52048087120056|                0.0|0.00401994213461876|246.83302307128898| 0.0649679594441213|\n",
            "+-----+------------------+-----+-----------+--------------------+----------------+------------------+-------------------+--------------------+--------------------+--------------------+--------------------+--------------------+-----------------+--------------------+------------------+-------------------+-------------------+------------------+-------------------+\n",
            "only showing top 10 rows\n",
            "\n"
          ],
          "name": "stdout"
        }
      ]
    },
    {
      "cell_type": "code",
      "metadata": {
        "id": "GfkSx-PARkCY",
        "colab_type": "code",
        "colab": {}
      },
      "source": [
        "#data = spark.read.format(\"csv\").option(\"header\", True).load(\"/variables_estacion_aod_IDW_modelo_paper.csv\").option(\"delimiter\", \",\")"
      ],
      "execution_count": 0,
      "outputs": []
    },
    {
      "cell_type": "markdown",
      "metadata": {
        "id": "wE2j4PXlPnWs",
        "colab_type": "text"
      },
      "source": [
        "Verificamos que la tabla se encuentre cargada correctamente."
      ]
    },
    {
      "cell_type": "code",
      "metadata": {
        "id": "cMr9q_5peG4_",
        "colab_type": "code",
        "outputId": "459c0501-99c6-4e52-8315-30f718a6bd8a",
        "colab": {
          "base_uri": "https://localhost:8080/",
          "height": 696
        }
      },
      "source": [
        "#display(data)\n",
        "#data.show()\n",
        "#data.describe().show()\n",
        "\n",
        "data.show(10)\n",
        "data.printSchema() #aparecen las variables como string\n"
      ],
      "execution_count": 215,
      "outputs": [
        {
          "output_type": "stream",
          "text": [
            "+-----+------------------+-----+-----------+--------------------+----------------+------------------+-------------------+--------------------+--------------------+--------------------+--------------------+--------------------+-----------------+--------------------+------------------+-------------------+-------------------+------------------+-------------------+\n",
            "| PM25|               DEM|CLC_1|         PS|                  RH|               T|                 U|                  V|             DUSMASS|             OCSMASS|            SO2SMASS|            SO4SMASS|             SSSMASS|             PBLH|             PRECTOT|             SPEED|             CLDHGH|             CLDLOW|             H1000|                AOD|\n",
            "+-----+------------------+-----+-----------+--------------------+----------------+------------------+-------------------+--------------------+--------------------+--------------------+--------------------+--------------------+-----------------+--------------------+------------------+-------------------+-------------------+------------------+-------------------+\n",
            "| 14.5|  32.4693260192871|88.89|99677.46875|   0.663100242614746|194.274841308594| -20.3080520629883| 3.6403522491455096| 6.07594685675394E-9|1.095661339434169...|1.732475052307340...| 1.85464299473637E-9| 1.11168096950109E-8|897.4995727539059|1.609541944169730...|3.4894623756408705|1.19263140732073E-5|                0.0|  153.389114379883|0.11910933039340099|\n",
            "|10.75| 6.658246000000001|88.89|   90484.07| 0.34512129999999996|          191.61|         -49.91089| 0.7907801999999999|         1.085839E-8|        5.922419E-10|1.614020999999999...|1.340685000000000...|         2.024717E-9|         2204.843|        6.187489E-15|          2.592818|                0.0|       3.707887E-17|          151.2303|         0.07745595|\n",
            "| 5.75|          402.3627|44.44|   88471.59|4.307247999999999...|        196.7785|         -9.453166|           11.13482|         1.497839E-8|         1.254222E-9|         1.523575E-9|         2.322621E-9|         7.032938E-9|          1980.42|          2.62019E-8|           2.99018|         0.01399208|        1.113847E-4|          109.5182|         0.07162899|\n",
            "|  6.5|          660.1466|  0.0|   97475.65|         8.181829E-5|        291.0945|         -4.016326|          0.8274657|        2.538895E-10|        3.182925E-10|         1.096547E-9|        6.934563E-10|8.437627000000001E-9|         1169.303|                 0.0|          5.115589|                0.0|                0.0|          148.9696|         0.07378066|\n",
            "|  5.0|38.099090000000004|66.67|   90301.39|3.486917999999999E-5|        286.9945|          2.022272|-2.7628169999999996|1.100598999999999...|        7.075145E-10|         1.267137E-9|         1.066621E-9|        9.300823E-10|          551.553|         2.524648E-8|          5.478398|         0.06193041|        0.002388746|          160.7333|         0.07087681|\n",
            "| 9.25|           1107.88|  0.0|   97433.13|         2.349016E-5|        296.9176|         -36.12318|          -4.006323|         4.709288E-8|        9.419161E-10|1.034305000000000...|2.057275000000000...|1.425704000000000...|         725.9038|         7.217312E-6|          3.608421|                0.0|0.10918530000000001|          146.8423|          0.1513142|\n",
            "| 6.75|38.099090000000004|66.67|   95914.19|           0.7034719|        185.3291|         -48.48129|           3.327993|5.831151999999999E-9|1.393640000000000...|         1.579973E-9|         1.551237E-9|3.414067000000000...|         2012.096|                 0.0|          3.799463|                0.0|                0.0|          131.6039|         0.05840434|\n",
            "|  9.0|          104.7554|22.22|   96543.74|           0.6813271|          203.56|         -5.805553|           13.52921|         1.245015E-8|        8.101431E-10|         2.685131E-9|         1.396522E-9|1.289511000000000...|          1380.33|         1.010149E-6|          2.082424| 0.5086335999999999|                0.0|          100.0411|0.14104360000000002|\n",
            "| 3.25|          402.3627|44.44|   88967.61|           0.3861197|        285.5648|          1.713871|-0.9843101000000001|        9.419792E-10|        3.588297E-10|         1.467052E-9|        6.783621E-10|        9.858593E-10|         820.7817|         1.688493E-8|          6.172911|                0.0|        0.001515713|          208.1319|         0.07071791|\n",
            "| 2.25|  240.114807128906|44.44|97467.15625|   0.624784827232361|285.303985595703|-0.917633891105652|-2.0154864788055398| 1.90624938056771E-9|4.855351676269491...| 2.55248178149259E-9|1.557105111515969...|5.523824064823659...|955.7294311523441| 2.06649808376369E-8|  2.52048087120056|                0.0|0.00401994213461876|246.83302307128898| 0.0649679594441213|\n",
            "+-----+------------------+-----+-----------+--------------------+----------------+------------------+-------------------+--------------------+--------------------+--------------------+--------------------+--------------------+-----------------+--------------------+------------------+-------------------+-------------------+------------------+-------------------+\n",
            "only showing top 10 rows\n",
            "\n",
            "root\n",
            " |-- PM25: double (nullable = true)\n",
            " |-- DEM: double (nullable = true)\n",
            " |-- CLC_1: double (nullable = true)\n",
            " |-- PS: double (nullable = true)\n",
            " |-- RH: double (nullable = true)\n",
            " |-- T: double (nullable = true)\n",
            " |-- U: double (nullable = true)\n",
            " |-- V: double (nullable = true)\n",
            " |-- DUSMASS: double (nullable = true)\n",
            " |-- OCSMASS: double (nullable = true)\n",
            " |-- SO2SMASS: double (nullable = true)\n",
            " |-- SO4SMASS: double (nullable = true)\n",
            " |-- SSSMASS: double (nullable = true)\n",
            " |-- PBLH: double (nullable = true)\n",
            " |-- PRECTOT: double (nullable = true)\n",
            " |-- SPEED: double (nullable = true)\n",
            " |-- CLDHGH: double (nullable = true)\n",
            " |-- CLDLOW: double (nullable = true)\n",
            " |-- H1000: double (nullable = true)\n",
            " |-- AOD: double (nullable = true)\n",
            "\n"
          ],
          "name": "stdout"
        }
      ]
    },
    {
      "cell_type": "markdown",
      "metadata": {
        "id": "VUQoMsbIencw",
        "colab_type": "text"
      },
      "source": [
        "¿El formato es correcto?"
      ]
    },
    {
      "cell_type": "code",
      "metadata": {
        "id": "BX1MVl1Reknr",
        "colab_type": "code",
        "colab": {}
      },
      "source": [
        "# data = data.select(*(col(c).cast(\"double\").alias(c) for c in data.columns))\n",
        "# data.printSchema()\n",
        "# data.show()"
      ],
      "execution_count": 0,
      "outputs": []
    },
    {
      "cell_type": "markdown",
      "metadata": {
        "id": "O8uxgOUNPvOk",
        "colab_type": "text"
      },
      "source": [
        "Creamos la lista de variables q ingresan al modelo"
      ]
    },
    {
      "cell_type": "code",
      "metadata": {
        "id": "UzDBXlabRRok",
        "colab_type": "code",
        "colab": {}
      },
      "source": [
        "feature_list = []\n",
        "for col in data.columns:\n",
        "    if col == 'label':\n",
        "        continue\n",
        "    else:\n",
        "        feature_list.append(col)"
      ],
      "execution_count": 0,
      "outputs": []
    },
    {
      "cell_type": "code",
      "metadata": {
        "id": "8PNcWdNwNWEQ",
        "colab_type": "code",
        "colab": {}
      },
      "source": [
        "#feature_list\n",
        "feature_list = feature_list[1:25]"
      ],
      "execution_count": 0,
      "outputs": []
    },
    {
      "cell_type": "markdown",
      "metadata": {
        "id": "kdwyFWGNRY3q",
        "colab_type": "text"
      },
      "source": [
        "Creamos la columna FEATURE. Combinamos todos nuestros datos en una sola columna:"
      ]
    },
    {
      "cell_type": "code",
      "metadata": {
        "id": "NhqDWsdXRl_N",
        "colab_type": "code",
        "colab": {}
      },
      "source": [
        "assembler = VectorAssembler(inputCols=feature_list, outputCol=\"features\")"
      ],
      "execution_count": 0,
      "outputs": []
    },
    {
      "cell_type": "code",
      "metadata": {
        "id": "4YWDYZbVMBOk",
        "colab_type": "code",
        "colab": {}
      },
      "source": [
        "output = assembler.transform(data)"
      ],
      "execution_count": 0,
      "outputs": []
    },
    {
      "cell_type": "code",
      "metadata": {
        "id": "gqWGUFTfMykh",
        "colab_type": "code",
        "colab": {
          "base_uri": "https://localhost:8080/",
          "height": 416
        },
        "outputId": "fc738947-7b20-4e20-f4d5-40560a53b01b"
      },
      "source": [
        "output.printSchema()\n",
        "#output.show(10)\n",
        "#output.select(\"features\", \"PM25\").show(truncate=False)"
      ],
      "execution_count": 224,
      "outputs": [
        {
          "output_type": "stream",
          "text": [
            "root\n",
            " |-- PM25: double (nullable = true)\n",
            " |-- DEM: double (nullable = true)\n",
            " |-- CLC_1: double (nullable = true)\n",
            " |-- PS: double (nullable = true)\n",
            " |-- RH: double (nullable = true)\n",
            " |-- T: double (nullable = true)\n",
            " |-- U: double (nullable = true)\n",
            " |-- V: double (nullable = true)\n",
            " |-- DUSMASS: double (nullable = true)\n",
            " |-- OCSMASS: double (nullable = true)\n",
            " |-- SO2SMASS: double (nullable = true)\n",
            " |-- SO4SMASS: double (nullable = true)\n",
            " |-- SSSMASS: double (nullable = true)\n",
            " |-- PBLH: double (nullable = true)\n",
            " |-- PRECTOT: double (nullable = true)\n",
            " |-- SPEED: double (nullable = true)\n",
            " |-- CLDHGH: double (nullable = true)\n",
            " |-- CLDLOW: double (nullable = true)\n",
            " |-- H1000: double (nullable = true)\n",
            " |-- AOD: double (nullable = true)\n",
            " |-- features: vector (nullable = true)\n",
            "\n"
          ],
          "name": "stdout"
        }
      ]
    },
    {
      "cell_type": "code",
      "metadata": {
        "id": "HDZgkfQXP9SZ",
        "colab_type": "code",
        "colab": {}
      },
      "source": [
        "#output = output.select(\"features\", \"PM25\")"
      ],
      "execution_count": 0,
      "outputs": []
    },
    {
      "cell_type": "markdown",
      "metadata": {
        "id": "lef1jsXJaDaj",
        "colab_type": "text"
      },
      "source": [
        "Definimos el set de entrenamiento y el de prueba (30% de los datos):"
      ]
    },
    {
      "cell_type": "code",
      "metadata": {
        "id": "WOccokdCbnPX",
        "colab_type": "code",
        "colab": {}
      },
      "source": [
        "(trainingData, testData) = output.randomSplit([0.7, 0.3], 123)"
      ],
      "execution_count": 0,
      "outputs": []
    },
    {
      "cell_type": "code",
      "metadata": {
        "id": "5ceymBilt7Qc",
        "colab_type": "code",
        "outputId": "15523e7a-2741-4396-ebb5-8e104b4bce34",
        "colab": {
          "base_uri": "https://localhost:8080/",
          "height": 211
        }
      },
      "source": [
        "#type(trainingData)\n",
        "#trainingData.printSchema()\n",
        "trainingData.take(10)"
      ],
      "execution_count": 240,
      "outputs": [
        {
          "output_type": "execute_result",
          "data": {
            "text/plain": [
              "[Row(PM25=0.08, DEM=26.122510000000002, CLC_1=66.67, PS=96517.06, RH=6.357457e-05, T=282.1785, U=43.54033, V=-11.12738, DUSMASS=1.509183e-09, OCSMASS=2.244379e-10, SO2SMASS=7.037031e-10, SO4SMASS=6.266534e-10, SSSMASS=5.443616999999999e-09, PBLH=1503.381, PRECTOT=2.213341e-08, SPEED=11.666889999999999, CLDHGH=0.0, CLDLOW=0.02347503, H1000=191.373, AOD=0.07806851, features=DenseVector([26.1225, 66.67, 96517.06, 0.0001, 282.1785, 43.5403, -11.1274, 0.0, 0.0, 0.0, 0.0, 0.0, 1503.381, 0.0, 11.6669, 0.0, 0.0235, 191.373, 0.0781])),\n",
              " Row(PM25=0.08, DEM=116.0358, CLC_1=11.11, PS=92265.45, RH=2.559837e-06, T=286.1741, U=-0.6763776, V=12.62625, DUSMASS=7.032930000000001e-09, OCSMASS=4.78972e-10, SO2SMASS=9.196215e-10, SO4SMASS=2.360359e-09, SSSMASS=2.9303479999999997e-09, PBLH=1467.385, PRECTOT=8.542975000000001e-09, SPEED=2.5002020000000003, CLDHGH=0.0, CLDLOW=2.471996e-05, H1000=199.3047, AOD=0.06417276, features=DenseVector([116.0358, 11.11, 92265.45, 0.0, 286.1741, -0.6764, 12.6262, 0.0, 0.0, 0.0, 0.0, 0.0, 1467.385, 0.0, 2.5002, 0.0, 0.0, 199.3047, 0.0642])),\n",
              " Row(PM25=0.08, DEM=116.0358, CLC_1=11.11, PS=92265.45, RH=2.559837e-06, T=286.1741, U=-0.6763776, V=12.62625, DUSMASS=7.032930000000001e-09, OCSMASS=4.78972e-10, SO2SMASS=9.196215e-10, SO4SMASS=2.360359e-09, SSSMASS=2.9303479999999997e-09, PBLH=1467.385, PRECTOT=8.542975000000001e-09, SPEED=2.5002020000000003, CLDHGH=0.0, CLDLOW=2.471996e-05, H1000=199.3047, AOD=0.06417276, features=DenseVector([116.0358, 11.11, 92265.45, 0.0, 286.1741, -0.6764, 12.6262, 0.0, 0.0, 0.0, 0.0, 0.0, 1467.385, 0.0, 2.5002, 0.0, 0.0, 199.3047, 0.0642])),\n",
              " Row(PM25=0.08, DEM=116.0358, CLC_1=11.11, PS=92265.45, RH=0.5235454, T=208.4516, U=-0.6763776, V=-2.045646, DUSMASS=7.032930000000001e-09, OCSMASS=4.78972e-10, SO2SMASS=9.196215e-10, SO4SMASS=2.360359e-09, SSSMASS=2.9303479999999997e-09, PBLH=1467.385, PRECTOT=8.542975000000001e-09, SPEED=2.5002020000000003, CLDHGH=0.0, CLDLOW=2.471996e-05, H1000=199.3047, AOD=0.06417276, features=DenseVector([116.0358, 11.11, 92265.45, 0.5235, 208.4516, -0.6764, -2.0456, 0.0, 0.0, 0.0, 0.0, 0.0, 1467.385, 0.0, 2.5002, 0.0, 0.0, 199.3047, 0.0642])),\n",
              " Row(PM25=0.08, DEM=116.0358, CLC_1=11.11, PS=92265.45, RH=0.5235454, T=208.4516, U=18.34543, V=-2.045646, DUSMASS=7.032930000000001e-09, OCSMASS=4.78972e-10, SO2SMASS=9.196215e-10, SO4SMASS=2.360359e-09, SSSMASS=2.9303479999999997e-09, PBLH=1467.385, PRECTOT=8.542975000000001e-09, SPEED=2.5002020000000003, CLDHGH=0.0, CLDLOW=2.471996e-05, H1000=199.3047, AOD=0.06417276, features=DenseVector([116.0358, 11.11, 92265.45, 0.5235, 208.4516, 18.3454, -2.0456, 0.0, 0.0, 0.0, 0.0, 0.0, 1467.385, 0.0, 2.5002, 0.0, 0.0, 199.3047, 0.0642])),\n",
              " Row(PM25=0.08, DEM=116.0358, CLC_1=11.11, PS=97162.33, RH=3.307492e-06, T=203.9485, U=-0.8296483, V=-2.7471, DUSMASS=2.3294770000000004e-09, OCSMASS=3.084785e-10, SO2SMASS=4.455623e-10, SO4SMASS=1.045872e-09, SSSMASS=1.7004620000000002e-09, PBLH=1759.148, PRECTOT=7.636451e-07, SPEED=6.969778, CLDHGH=0.0, CLDLOW=0.003577662, H1000=134.5184, AOD=0.06789167, features=DenseVector([116.0358, 11.11, 97162.33, 0.0, 203.9485, -0.8296, -2.7471, 0.0, 0.0, 0.0, 0.0, 0.0, 1759.148, 0.0, 6.9698, 0.0, 0.0036, 134.5184, 0.0679])),\n",
              " Row(PM25=0.08, DEM=116.0358, CLC_1=11.11, PS=97493.41, RH=0.5235454, T=286.1741, U=18.34543, V=12.62625, DUSMASS=7.032930000000001e-09, OCSMASS=4.78972e-10, SO2SMASS=9.196215e-10, SO4SMASS=2.360359e-09, SSSMASS=2.9303479999999997e-09, PBLH=1467.385, PRECTOT=8.542975000000001e-09, SPEED=2.5002020000000003, CLDHGH=0.0, CLDLOW=2.471996e-05, H1000=199.3047, AOD=0.06417276, features=DenseVector([116.0358, 11.11, 97493.41, 0.5235, 286.1741, 18.3454, 12.6262, 0.0, 0.0, 0.0, 0.0, 0.0, 1467.385, 0.0, 2.5002, 0.0, 0.0, 199.3047, 0.0642])),\n",
              " Row(PM25=0.08, DEM=154.9863, CLC_1=66.67, PS=100134.8, RH=6.74176e-05, T=296.8703, U=5.494759999999999, V=8.909981, DUSMASS=1.41404e-08, OCSMASS=5.086169999999999e-10, SO2SMASS=1.7216619999999998e-09, SO4SMASS=1.419516e-09, SSSMASS=1.7285580000000002e-08, PBLH=1280.711, PRECTOT=6.572159000000001e-06, SPEED=6.3417639999999995, CLDHGH=0.2003616, CLDLOW=0.01393166, H1000=114.5909, AOD=0.12033440000000001, features=DenseVector([154.9863, 66.67, 100134.8, 0.0001, 296.8703, 5.4948, 8.91, 0.0, 0.0, 0.0, 0.0, 0.0, 1280.711, 0.0, 6.3418, 0.2004, 0.0139, 114.5909, 0.1203])),\n",
              " Row(PM25=0.08, DEM=154.9863, CLC_1=66.67, PS=100813.0, RH=2.436285e-05, T=196.7154, U=2.8226310000000003, V=-1.9221990000000002, DUSMASS=4.4237150000000006e-09, OCSMASS=7.518068e-10, SO2SMASS=5.256409e-10, SO4SMASS=1.132141e-09, SSSMASS=4.710895e-08, PBLH=1075.244, PRECTOT=3.0974250000000002e-06, SPEED=7.938884, CLDHGH=0.4352068, CLDLOW=0.02592241, H1000=145.8667, AOD=0.10219539999999999, features=DenseVector([154.9863, 66.67, 100813.0, 0.0, 196.7154, 2.8226, -1.9222, 0.0, 0.0, 0.0, 0.0, 0.0, 1075.244, 0.0, 7.9389, 0.4352, 0.0259, 145.8667, 0.1022])),\n",
              " Row(PM25=0.08, DEM=154.9863, CLC_1=66.67, PS=100813.0, RH=0.7117100000000001, T=292.9166, U=-7.1562600000000005, V=3.308499, DUSMASS=4.4237150000000006e-09, OCSMASS=7.518068e-10, SO2SMASS=5.256409e-10, SO4SMASS=1.132141e-09, SSSMASS=4.710895e-08, PBLH=1075.244, PRECTOT=3.0974250000000002e-06, SPEED=7.938884, CLDHGH=0.4352068, CLDLOW=0.02592241, H1000=145.8667, AOD=0.10219539999999999, features=DenseVector([154.9863, 66.67, 100813.0, 0.7117, 292.9166, -7.1563, 3.3085, 0.0, 0.0, 0.0, 0.0, 0.0, 1075.244, 0.0, 7.9389, 0.4352, 0.0259, 145.8667, 0.1022]))]"
            ]
          },
          "metadata": {
            "tags": []
          },
          "execution_count": 240
        }
      ]
    },
    {
      "cell_type": "markdown",
      "metadata": {
        "id": "Bg_jjaQPYGv6",
        "colab_type": "text"
      },
      "source": [
        "Definimos el modelo:"
      ]
    },
    {
      "cell_type": "code",
      "metadata": {
        "id": "_y3muOlmSPc3",
        "colab_type": "code",
        "colab": {}
      },
      "source": [
        "rf = RandomForestRegressor(labelCol=\"PM25\", featuresCol=\"features\", numTrees=100, seed= 123)"
      ],
      "execution_count": 0,
      "outputs": []
    },
    {
      "cell_type": "code",
      "metadata": {
        "id": "dW7bocTpju6Y",
        "colab_type": "code",
        "colab": {
          "base_uri": "https://localhost:8080/",
          "height": 1000
        },
        "outputId": "312dcf03-7a19-4aa9-cbdb-d3c1c2a45dbc"
      },
      "source": [
        "model = rf.fit(trainingData)"
      ],
      "execution_count": 241,
      "outputs": [
        {
          "output_type": "error",
          "ename": "IllegalArgumentException",
          "evalue": "ignored",
          "traceback": [
            "\u001b[0;31m---------------------------------------------------------------------------\u001b[0m",
            "\u001b[0;31mPy4JJavaError\u001b[0m                             Traceback (most recent call last)",
            "\u001b[0;32m/usr/local/lib/python3.6/dist-packages/pyspark/sql/utils.py\u001b[0m in \u001b[0;36mdeco\u001b[0;34m(*a, **kw)\u001b[0m\n\u001b[1;32m     62\u001b[0m         \u001b[0;32mtry\u001b[0m\u001b[0;34m:\u001b[0m\u001b[0;34m\u001b[0m\u001b[0;34m\u001b[0m\u001b[0m\n\u001b[0;32m---> 63\u001b[0;31m             \u001b[0;32mreturn\u001b[0m \u001b[0mf\u001b[0m\u001b[0;34m(\u001b[0m\u001b[0;34m*\u001b[0m\u001b[0ma\u001b[0m\u001b[0;34m,\u001b[0m \u001b[0;34m**\u001b[0m\u001b[0mkw\u001b[0m\u001b[0;34m)\u001b[0m\u001b[0;34m\u001b[0m\u001b[0;34m\u001b[0m\u001b[0m\n\u001b[0m\u001b[1;32m     64\u001b[0m         \u001b[0;32mexcept\u001b[0m \u001b[0mpy4j\u001b[0m\u001b[0;34m.\u001b[0m\u001b[0mprotocol\u001b[0m\u001b[0;34m.\u001b[0m\u001b[0mPy4JJavaError\u001b[0m \u001b[0;32mas\u001b[0m \u001b[0me\u001b[0m\u001b[0;34m:\u001b[0m\u001b[0;34m\u001b[0m\u001b[0;34m\u001b[0m\u001b[0m\n",
            "\u001b[0;32m/usr/local/lib/python3.6/dist-packages/py4j/protocol.py\u001b[0m in \u001b[0;36mget_return_value\u001b[0;34m(answer, gateway_client, target_id, name)\u001b[0m\n\u001b[1;32m    327\u001b[0m                     \u001b[0;34m\"An error occurred while calling {0}{1}{2}.\\n\"\u001b[0m\u001b[0;34m.\u001b[0m\u001b[0;34m\u001b[0m\u001b[0;34m\u001b[0m\u001b[0m\n\u001b[0;32m--> 328\u001b[0;31m                     format(target_id, \".\", name), value)\n\u001b[0m\u001b[1;32m    329\u001b[0m             \u001b[0;32melse\u001b[0m\u001b[0;34m:\u001b[0m\u001b[0;34m\u001b[0m\u001b[0;34m\u001b[0m\u001b[0m\n",
            "\u001b[0;31mPy4JJavaError\u001b[0m: An error occurred while calling o155962.fit.\n: java.lang.IllegalArgumentException: Unsupported class file major version 55\n\tat org.apache.xbean.asm6.ClassReader.<init>(ClassReader.java:166)\n\tat org.apache.xbean.asm6.ClassReader.<init>(ClassReader.java:148)\n\tat org.apache.xbean.asm6.ClassReader.<init>(ClassReader.java:136)\n\tat org.apache.xbean.asm6.ClassReader.<init>(ClassReader.java:237)\n\tat org.apache.spark.util.ClosureCleaner$.getClassReader(ClosureCleaner.scala:49)\n\tat org.apache.spark.util.FieldAccessFinder$$anon$3$$anonfun$visitMethodInsn$2.apply(ClosureCleaner.scala:517)\n\tat org.apache.spark.util.FieldAccessFinder$$anon$3$$anonfun$visitMethodInsn$2.apply(ClosureCleaner.scala:500)\n\tat scala.collection.TraversableLike$WithFilter$$anonfun$foreach$1.apply(TraversableLike.scala:733)\n\tat scala.collection.mutable.HashMap$$anon$1$$anonfun$foreach$2.apply(HashMap.scala:134)\n\tat scala.collection.mutable.HashMap$$anon$1$$anonfun$foreach$2.apply(HashMap.scala:134)\n\tat scala.collection.mutable.HashTable$class.foreachEntry(HashTable.scala:236)\n\tat scala.collection.mutable.HashMap.foreachEntry(HashMap.scala:40)\n\tat scala.collection.mutable.HashMap$$anon$1.foreach(HashMap.scala:134)\n\tat scala.collection.TraversableLike$WithFilter.foreach(TraversableLike.scala:732)\n\tat org.apache.spark.util.FieldAccessFinder$$anon$3.visitMethodInsn(ClosureCleaner.scala:500)\n\tat org.apache.xbean.asm6.ClassReader.readCode(ClassReader.java:2175)\n\tat org.apache.xbean.asm6.ClassReader.readMethod(ClassReader.java:1238)\n\tat org.apache.xbean.asm6.ClassReader.accept(ClassReader.java:631)\n\tat org.apache.xbean.asm6.ClassReader.accept(ClassReader.java:355)\n\tat org.apache.spark.util.ClosureCleaner$$anonfun$org$apache$spark$util$ClosureCleaner$$clean$14.apply(ClosureCleaner.scala:307)\n\tat org.apache.spark.util.ClosureCleaner$$anonfun$org$apache$spark$util$ClosureCleaner$$clean$14.apply(ClosureCleaner.scala:306)\n\tat scala.collection.immutable.List.foreach(List.scala:392)\n\tat org.apache.spark.util.ClosureCleaner$.org$apache$spark$util$ClosureCleaner$$clean(ClosureCleaner.scala:306)\n\tat org.apache.spark.util.ClosureCleaner$.clean(ClosureCleaner.scala:162)\n\tat org.apache.spark.SparkContext.clean(SparkContext.scala:2326)\n\tat org.apache.spark.SparkContext.runJob(SparkContext.scala:2100)\n\tat org.apache.spark.rdd.RDD$$anonfun$take$1.apply(RDD.scala:1409)\n\tat org.apache.spark.rdd.RDDOperationScope$.withScope(RDDOperationScope.scala:151)\n\tat org.apache.spark.rdd.RDDOperationScope$.withScope(RDDOperationScope.scala:112)\n\tat org.apache.spark.rdd.RDD.withScope(RDD.scala:385)\n\tat org.apache.spark.rdd.RDD.take(RDD.scala:1382)\n\tat org.apache.spark.ml.tree.impl.DecisionTreeMetadata$.buildMetadata(DecisionTreeMetadata.scala:112)\n\tat org.apache.spark.ml.tree.impl.RandomForest$.run(RandomForest.scala:106)\n\tat org.apache.spark.ml.regression.RandomForestRegressor$$anonfun$train$1.apply(RandomForestRegressor.scala:133)\n\tat org.apache.spark.ml.regression.RandomForestRegressor$$anonfun$train$1.apply(RandomForestRegressor.scala:119)\n\tat org.apache.spark.ml.util.Instrumentation$$anonfun$11.apply(Instrumentation.scala:185)\n\tat scala.util.Try$.apply(Try.scala:192)\n\tat org.apache.spark.ml.util.Instrumentation$.instrumented(Instrumentation.scala:185)\n\tat org.apache.spark.ml.regression.RandomForestRegressor.train(RandomForestRegressor.scala:119)\n\tat org.apache.spark.ml.regression.RandomForestRegressor.train(RandomForestRegressor.scala:46)\n\tat org.apache.spark.ml.Predictor.fit(Predictor.scala:118)\n\tat org.apache.spark.ml.Predictor.fit(Predictor.scala:82)\n\tat jdk.internal.reflect.GeneratedMethodAccessor48.invoke(Unknown Source)\n\tat java.base/jdk.internal.reflect.DelegatingMethodAccessorImpl.invoke(DelegatingMethodAccessorImpl.java:43)\n\tat java.base/java.lang.reflect.Method.invoke(Method.java:566)\n\tat py4j.reflection.MethodInvoker.invoke(MethodInvoker.java:244)\n\tat py4j.reflection.ReflectionEngine.invoke(ReflectionEngine.java:357)\n\tat py4j.Gateway.invoke(Gateway.java:282)\n\tat py4j.commands.AbstractCommand.invokeMethod(AbstractCommand.java:132)\n\tat py4j.commands.CallCommand.execute(CallCommand.java:79)\n\tat py4j.GatewayConnection.run(GatewayConnection.java:238)\n\tat java.base/java.lang.Thread.run(Thread.java:834)\n",
            "\nDuring handling of the above exception, another exception occurred:\n",
            "\u001b[0;31mIllegalArgumentException\u001b[0m                  Traceback (most recent call last)",
            "\u001b[0;32m<ipython-input-241-4126f016895a>\u001b[0m in \u001b[0;36m<module>\u001b[0;34m()\u001b[0m\n\u001b[0;32m----> 1\u001b[0;31m \u001b[0mmodel\u001b[0m \u001b[0;34m=\u001b[0m \u001b[0mrf\u001b[0m\u001b[0;34m.\u001b[0m\u001b[0mfit\u001b[0m\u001b[0;34m(\u001b[0m\u001b[0mtrainingData\u001b[0m\u001b[0;34m)\u001b[0m\u001b[0;34m\u001b[0m\u001b[0;34m\u001b[0m\u001b[0m\n\u001b[0m",
            "\u001b[0;32m/usr/local/lib/python3.6/dist-packages/pyspark/ml/base.py\u001b[0m in \u001b[0;36mfit\u001b[0;34m(self, dataset, params)\u001b[0m\n\u001b[1;32m    130\u001b[0m                 \u001b[0;32mreturn\u001b[0m \u001b[0mself\u001b[0m\u001b[0;34m.\u001b[0m\u001b[0mcopy\u001b[0m\u001b[0;34m(\u001b[0m\u001b[0mparams\u001b[0m\u001b[0;34m)\u001b[0m\u001b[0;34m.\u001b[0m\u001b[0m_fit\u001b[0m\u001b[0;34m(\u001b[0m\u001b[0mdataset\u001b[0m\u001b[0;34m)\u001b[0m\u001b[0;34m\u001b[0m\u001b[0;34m\u001b[0m\u001b[0m\n\u001b[1;32m    131\u001b[0m             \u001b[0;32melse\u001b[0m\u001b[0;34m:\u001b[0m\u001b[0;34m\u001b[0m\u001b[0;34m\u001b[0m\u001b[0m\n\u001b[0;32m--> 132\u001b[0;31m                 \u001b[0;32mreturn\u001b[0m \u001b[0mself\u001b[0m\u001b[0;34m.\u001b[0m\u001b[0m_fit\u001b[0m\u001b[0;34m(\u001b[0m\u001b[0mdataset\u001b[0m\u001b[0;34m)\u001b[0m\u001b[0;34m\u001b[0m\u001b[0;34m\u001b[0m\u001b[0m\n\u001b[0m\u001b[1;32m    133\u001b[0m         \u001b[0;32melse\u001b[0m\u001b[0;34m:\u001b[0m\u001b[0;34m\u001b[0m\u001b[0;34m\u001b[0m\u001b[0m\n\u001b[1;32m    134\u001b[0m             raise ValueError(\"Params must be either a param map or a list/tuple of param maps, \"\n",
            "\u001b[0;32m/usr/local/lib/python3.6/dist-packages/pyspark/ml/wrapper.py\u001b[0m in \u001b[0;36m_fit\u001b[0;34m(self, dataset)\u001b[0m\n\u001b[1;32m    293\u001b[0m \u001b[0;34m\u001b[0m\u001b[0m\n\u001b[1;32m    294\u001b[0m     \u001b[0;32mdef\u001b[0m \u001b[0m_fit\u001b[0m\u001b[0;34m(\u001b[0m\u001b[0mself\u001b[0m\u001b[0;34m,\u001b[0m \u001b[0mdataset\u001b[0m\u001b[0;34m)\u001b[0m\u001b[0;34m:\u001b[0m\u001b[0;34m\u001b[0m\u001b[0;34m\u001b[0m\u001b[0m\n\u001b[0;32m--> 295\u001b[0;31m         \u001b[0mjava_model\u001b[0m \u001b[0;34m=\u001b[0m \u001b[0mself\u001b[0m\u001b[0;34m.\u001b[0m\u001b[0m_fit_java\u001b[0m\u001b[0;34m(\u001b[0m\u001b[0mdataset\u001b[0m\u001b[0;34m)\u001b[0m\u001b[0;34m\u001b[0m\u001b[0;34m\u001b[0m\u001b[0m\n\u001b[0m\u001b[1;32m    296\u001b[0m         \u001b[0mmodel\u001b[0m \u001b[0;34m=\u001b[0m \u001b[0mself\u001b[0m\u001b[0;34m.\u001b[0m\u001b[0m_create_model\u001b[0m\u001b[0;34m(\u001b[0m\u001b[0mjava_model\u001b[0m\u001b[0;34m)\u001b[0m\u001b[0;34m\u001b[0m\u001b[0;34m\u001b[0m\u001b[0m\n\u001b[1;32m    297\u001b[0m         \u001b[0;32mreturn\u001b[0m \u001b[0mself\u001b[0m\u001b[0;34m.\u001b[0m\u001b[0m_copyValues\u001b[0m\u001b[0;34m(\u001b[0m\u001b[0mmodel\u001b[0m\u001b[0;34m)\u001b[0m\u001b[0;34m\u001b[0m\u001b[0;34m\u001b[0m\u001b[0m\n",
            "\u001b[0;32m/usr/local/lib/python3.6/dist-packages/pyspark/ml/wrapper.py\u001b[0m in \u001b[0;36m_fit_java\u001b[0;34m(self, dataset)\u001b[0m\n\u001b[1;32m    290\u001b[0m         \"\"\"\n\u001b[1;32m    291\u001b[0m         \u001b[0mself\u001b[0m\u001b[0;34m.\u001b[0m\u001b[0m_transfer_params_to_java\u001b[0m\u001b[0;34m(\u001b[0m\u001b[0;34m)\u001b[0m\u001b[0;34m\u001b[0m\u001b[0;34m\u001b[0m\u001b[0m\n\u001b[0;32m--> 292\u001b[0;31m         \u001b[0;32mreturn\u001b[0m \u001b[0mself\u001b[0m\u001b[0;34m.\u001b[0m\u001b[0m_java_obj\u001b[0m\u001b[0;34m.\u001b[0m\u001b[0mfit\u001b[0m\u001b[0;34m(\u001b[0m\u001b[0mdataset\u001b[0m\u001b[0;34m.\u001b[0m\u001b[0m_jdf\u001b[0m\u001b[0;34m)\u001b[0m\u001b[0;34m\u001b[0m\u001b[0;34m\u001b[0m\u001b[0m\n\u001b[0m\u001b[1;32m    293\u001b[0m \u001b[0;34m\u001b[0m\u001b[0m\n\u001b[1;32m    294\u001b[0m     \u001b[0;32mdef\u001b[0m \u001b[0m_fit\u001b[0m\u001b[0;34m(\u001b[0m\u001b[0mself\u001b[0m\u001b[0;34m,\u001b[0m \u001b[0mdataset\u001b[0m\u001b[0;34m)\u001b[0m\u001b[0;34m:\u001b[0m\u001b[0;34m\u001b[0m\u001b[0;34m\u001b[0m\u001b[0m\n",
            "\u001b[0;32m/usr/local/lib/python3.6/dist-packages/py4j/java_gateway.py\u001b[0m in \u001b[0;36m__call__\u001b[0;34m(self, *args)\u001b[0m\n\u001b[1;32m   1255\u001b[0m         \u001b[0manswer\u001b[0m \u001b[0;34m=\u001b[0m \u001b[0mself\u001b[0m\u001b[0;34m.\u001b[0m\u001b[0mgateway_client\u001b[0m\u001b[0;34m.\u001b[0m\u001b[0msend_command\u001b[0m\u001b[0;34m(\u001b[0m\u001b[0mcommand\u001b[0m\u001b[0;34m)\u001b[0m\u001b[0;34m\u001b[0m\u001b[0;34m\u001b[0m\u001b[0m\n\u001b[1;32m   1256\u001b[0m         return_value = get_return_value(\n\u001b[0;32m-> 1257\u001b[0;31m             answer, self.gateway_client, self.target_id, self.name)\n\u001b[0m\u001b[1;32m   1258\u001b[0m \u001b[0;34m\u001b[0m\u001b[0m\n\u001b[1;32m   1259\u001b[0m         \u001b[0;32mfor\u001b[0m \u001b[0mtemp_arg\u001b[0m \u001b[0;32min\u001b[0m \u001b[0mtemp_args\u001b[0m\u001b[0;34m:\u001b[0m\u001b[0;34m\u001b[0m\u001b[0;34m\u001b[0m\u001b[0m\n",
            "\u001b[0;32m/usr/local/lib/python3.6/dist-packages/pyspark/sql/utils.py\u001b[0m in \u001b[0;36mdeco\u001b[0;34m(*a, **kw)\u001b[0m\n\u001b[1;32m     77\u001b[0m                 \u001b[0;32mraise\u001b[0m \u001b[0mQueryExecutionException\u001b[0m\u001b[0;34m(\u001b[0m\u001b[0ms\u001b[0m\u001b[0;34m.\u001b[0m\u001b[0msplit\u001b[0m\u001b[0;34m(\u001b[0m\u001b[0;34m': '\u001b[0m\u001b[0;34m,\u001b[0m \u001b[0;36m1\u001b[0m\u001b[0;34m)\u001b[0m\u001b[0;34m[\u001b[0m\u001b[0;36m1\u001b[0m\u001b[0;34m]\u001b[0m\u001b[0;34m,\u001b[0m \u001b[0mstackTrace\u001b[0m\u001b[0;34m)\u001b[0m\u001b[0;34m\u001b[0m\u001b[0;34m\u001b[0m\u001b[0m\n\u001b[1;32m     78\u001b[0m             \u001b[0;32mif\u001b[0m \u001b[0ms\u001b[0m\u001b[0;34m.\u001b[0m\u001b[0mstartswith\u001b[0m\u001b[0;34m(\u001b[0m\u001b[0;34m'java.lang.IllegalArgumentException: '\u001b[0m\u001b[0;34m)\u001b[0m\u001b[0;34m:\u001b[0m\u001b[0;34m\u001b[0m\u001b[0;34m\u001b[0m\u001b[0m\n\u001b[0;32m---> 79\u001b[0;31m                 \u001b[0;32mraise\u001b[0m \u001b[0mIllegalArgumentException\u001b[0m\u001b[0;34m(\u001b[0m\u001b[0ms\u001b[0m\u001b[0;34m.\u001b[0m\u001b[0msplit\u001b[0m\u001b[0;34m(\u001b[0m\u001b[0;34m': '\u001b[0m\u001b[0;34m,\u001b[0m \u001b[0;36m1\u001b[0m\u001b[0;34m)\u001b[0m\u001b[0;34m[\u001b[0m\u001b[0;36m1\u001b[0m\u001b[0;34m]\u001b[0m\u001b[0;34m,\u001b[0m \u001b[0mstackTrace\u001b[0m\u001b[0;34m)\u001b[0m\u001b[0;34m\u001b[0m\u001b[0;34m\u001b[0m\u001b[0m\n\u001b[0m\u001b[1;32m     80\u001b[0m             \u001b[0;32mraise\u001b[0m\u001b[0;34m\u001b[0m\u001b[0;34m\u001b[0m\u001b[0m\n\u001b[1;32m     81\u001b[0m     \u001b[0;32mreturn\u001b[0m \u001b[0mdeco\u001b[0m\u001b[0;34m\u001b[0m\u001b[0;34m\u001b[0m\u001b[0m\n",
            "\u001b[0;31mIllegalArgumentException\u001b[0m: 'Unsupported class file major version 55'"
          ]
        }
      ]
    },
    {
      "cell_type": "markdown",
      "metadata": {
        "id": "OvdnbWFIZY0I",
        "colab_type": "text"
      },
      "source": [
        "Creamos el Pipeline:"
      ]
    },
    {
      "cell_type": "code",
      "metadata": {
        "id": "Gd-3N92zUt4z",
        "colab_type": "code",
        "colab": {}
      },
      "source": [
        "pipeline = Pipeline(stages=[assembler, rf])"
      ],
      "execution_count": 0,
      "outputs": []
    },
    {
      "cell_type": "code",
      "metadata": {
        "id": "EPHdEE1Eaau9",
        "colab_type": "code",
        "colab": {}
      },
      "source": [
        "model = pipeline.fit(trainingData)"
      ],
      "execution_count": 0,
      "outputs": []
    },
    {
      "cell_type": "markdown",
      "metadata": {
        "id": "8iJxLXH4Zfei",
        "colab_type": "text"
      },
      "source": [
        "Creamos la grilla para calcular el error:"
      ]
    },
    {
      "cell_type": "code",
      "metadata": {
        "id": "Pc9rE14mVapG",
        "colab_type": "code",
        "colab": {}
      },
      "source": [
        "paramGrid = ParamGridBuilder() \\\n",
        "    .addGrid(rf.numTrees, [int(x) for x in np.linspace(start = 10, stop = 50, num = 10)]) \\\n",
        "    .addGrid(rf.maxDepth, [int(x) for x in np.linspace(start = 5, stop = 25, num = 10)]) \\\n",
        "    .build()"
      ],
      "execution_count": 0,
      "outputs": []
    },
    {
      "cell_type": "markdown",
      "metadata": {
        "id": "cLY1WkgIZmVg",
        "colab_type": "text"
      },
      "source": [
        "Armamos el Cross Validation:"
      ]
    },
    {
      "cell_type": "code",
      "metadata": {
        "id": "No95jQ8YQE1n",
        "colab_type": "code",
        "colab": {}
      },
      "source": [
        "crossval = CrossValidator(estimator = pipeline,\n",
        "                          estimatorParamMaps = paramGrid,\n",
        "                          evaluator = RegressionEvaluator(),\n",
        "                          numFolds = 10)"
      ],
      "execution_count": 0,
      "outputs": []
    },
    {
      "cell_type": "markdown",
      "metadata": {
        "id": "LbQdFaNTaLXp",
        "colab_type": "text"
      },
      "source": [
        "Por fin, corremos el modelo con el set de entrenamiento:"
      ]
    },
    {
      "cell_type": "code",
      "metadata": {
        "id": "3tqgu4pkebZM",
        "colab_type": "code",
        "colab": {}
      },
      "source": [
        "cvModel = crossval.fit(trainingData)"
      ],
      "execution_count": 0,
      "outputs": []
    },
    {
      "cell_type": "markdown",
      "metadata": {
        "id": "1z1OuECVFPwJ",
        "colab_type": "text"
      },
      "source": [
        "Generamos las predicciones del modelo.."
      ]
    },
    {
      "cell_type": "code",
      "metadata": {
        "id": "tr1Fu_uHVuIW",
        "colab_type": "code",
        "colab": {}
      },
      "source": [
        "predictions = cvModel.transform(testData)"
      ],
      "execution_count": 0,
      "outputs": []
    },
    {
      "cell_type": "markdown",
      "metadata": {
        "id": "Ny-5QiG61utq",
        "colab_type": "text"
      },
      "source": [
        "De aca para abajo es \"tomado\".. Muestra gráficas de resultados."
      ]
    },
    {
      "cell_type": "code",
      "metadata": {
        "id": "HV2lTrd-VwVu",
        "colab_type": "code",
        "colab": {}
      },
      "source": [
        "import matplotlib.pyplot as plt\n",
        "\n",
        "evaluator = RegressionEvaluator(labelCol=\"label\", predictionCol=\"prediction\", metricName=\"rmse\")\n",
        "\n",
        "rmse = evaluator.evaluate(predictions)\n",
        "\n",
        "rfPred = cvModel.transform(df)\n",
        "\n",
        "rfResult = rfPred.toPandas()\n",
        "\n",
        "plt.plot(rfResult.label, rfResult.prediction, 'bo')\n",
        "plt.xlabel('Price')\n",
        "plt.ylabel('Prediction')\n",
        "plt.suptitle(\"Model Performance RMSE: %f\" % rmse)\n",
        "plt.show()"
      ],
      "execution_count": 0,
      "outputs": []
    },
    {
      "cell_type": "code",
      "metadata": {
        "id": "IhhlYl3mV0cN",
        "colab_type": "code",
        "colab": {}
      },
      "source": [
        "\n",
        "bestPipeline = cvModel.bestModel\n",
        "bestModel = bestPipeline.stages[1]\n",
        "\n",
        "importances = bestModel.featureImportances\n",
        "\n",
        "x_values = list(range(len(importances)))\n",
        "\n",
        "plt.bar(x_values, importances, orientation = 'vertical')\n",
        "plt.xticks(x_values, feature_list, rotation=40)\n",
        "plt.ylabel('Importance')\n",
        "plt.xlabel('Feature')\n",
        "plt.title('Feature Importances')"
      ],
      "execution_count": 0,
      "outputs": []
    },
    {
      "cell_type": "code",
      "metadata": {
        "id": "xHlaV7nyeZH7",
        "colab_type": "code",
        "colab": {}
      },
      "source": [
        "sc.stop()"
      ],
      "execution_count": 0,
      "outputs": []
    }
  ]
}